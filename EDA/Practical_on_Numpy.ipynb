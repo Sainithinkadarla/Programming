{
  "cells": [
    {
      "attachments": {},
      "cell_type": "markdown",
      "metadata": {
        "id": "pT5sPIXySGpi"
      },
      "source": [
        "# Numpy Basics"
      ]
    },
    {
      "cell_type": "markdown",
      "metadata": {
        "id": "eHnMalVdRlbC"
      },
      "source": [
        "**Defining a list and converting the list into an array using Numpy**"
      ]
    },
    {
      "cell_type": "code",
      "execution_count": 1,
      "metadata": {
        "colab": {
          "base_uri": "https://localhost:8080/"
        },
        "id": "UIP7jKwNPTd0",
        "outputId": "d2f58f52-ecc9-40a8-fb1c-c07a4790da70"
      },
      "outputs": [
        {
          "name": "stdout",
          "output_type": "stream",
          "text": [
            "[1 2 3 4 5]\n"
          ]
        }
      ],
      "source": [
        "import numpy as np \n",
        "mylist = [1,2,3,4,5]\n",
        "myarray = np.array(mylist)\n",
        "print(myarray)"
      ]
    },
    {
      "cell_type": "markdown",
      "metadata": {},
      "source": []
    },
    {
      "cell_type": "markdown",
      "metadata": {
        "id": "ozQQvZdMTua2"
      },
      "source": [
        "**Defining a two dimensional list and converting the list into array**"
      ]
    },
    {
      "cell_type": "code",
      "execution_count": 2,
      "metadata": {
        "colab": {
          "base_uri": "https://localhost:8080/"
        },
        "id": "iWz1OeenP6Um",
        "outputId": "f1970ead-d091-40ae-a27e-09577e2edf25"
      },
      "outputs": [
        {
          "name": "stdout",
          "output_type": "stream",
          "text": [
            "[[ 1  2  3  4  5]\n",
            " [ 2  4  6  8 10]\n",
            " [ 1  4  9 16 25]]\n"
          ]
        }
      ],
      "source": [
        "my2dlist = [[1,2,3,4,5], [2,4,6,8,10], [1,4,9,16,25]]\n",
        "my2darray = np.array(my2dlist)\n",
        "print(my2darray)\n",
        "\n"
      ]
    },
    {
      "cell_type": "markdown",
      "metadata": {
        "id": "jVq6zUBxUG5e"
      },
      "source": [
        "**Defining a three dimensional list and converting the list into array**"
      ]
    },
    {
      "cell_type": "code",
      "execution_count": 3,
      "metadata": {
        "colab": {
          "base_uri": "https://localhost:8080/"
        },
        "id": "1hJp5EkMTpuz",
        "outputId": "02087ac0-12ee-4696-e543-4a2740bd3f98"
      },
      "outputs": [
        {
          "name": "stdout",
          "output_type": "stream",
          "text": [
            "[[[   1    2    3    4    5]\n",
            "  [   2    4    6    8   10]\n",
            "  [   3    6    9   12   15]]\n",
            "\n",
            " [[   2    4    6    8   10]\n",
            "  [   4    8   12   16   20]\n",
            "  [   6   12   18   24   30]]\n",
            "\n",
            " [[   1    3    3    4    5]\n",
            "  [   3  234   34    3    4]\n",
            "  [2323  434   35   35    5]]]\n"
          ]
        }
      ],
      "source": [
        "my3dlist = [[[1,2,3,4,5], [2,4,6,8,10], [3,6,9,12,15]], [[2,4,6,8,10], [4,8,12,16,20], [6,12,18,24,30]], [[1,3,3,4,5], [3,234,34,3,4], [2323,434,35,35,5]]]\n",
        "my3darray = np.array(my3dlist)\n",
        "print(my3darray)"
      ]
    },
    {
      "attachments": {},
      "cell_type": "markdown",
      "metadata": {},
      "source": [
        "**Information about previously created arrays**"
      ]
    },
    {
      "attachments": {},
      "cell_type": "markdown",
      "metadata": {},
      "source": [
        "array.data displays the memory address"
      ]
    },
    {
      "cell_type": "code",
      "execution_count": 4,
      "metadata": {
        "colab": {
          "base_uri": "https://localhost:8080/"
        },
        "id": "UsAW6ynMuYKm",
        "outputId": "6e6feb1b-1e6e-479e-f634-303fd728dc23"
      },
      "outputs": [
        {
          "name": "stdout",
          "output_type": "stream",
          "text": [
            "<memory at 0x0000023EEF6995D0>\n"
          ]
        }
      ],
      "source": [
        "print(my3darray.data)"
      ]
    },
    {
      "attachments": {},
      "cell_type": "markdown",
      "metadata": {},
      "source": [
        "array.shape displays the size of the array"
      ]
    },
    {
      "cell_type": "code",
      "execution_count": 5,
      "metadata": {
        "colab": {
          "base_uri": "https://localhost:8080/"
        },
        "id": "17lpQChCvLtk",
        "outputId": "58fd72a1-e244-493f-9417-02cdf44e48c4"
      },
      "outputs": [
        {
          "name": "stdout",
          "output_type": "stream",
          "text": [
            "(5,)\n",
            "(3, 5)\n",
            "(3, 3, 5)\n"
          ]
        }
      ],
      "source": [
        "print(myarray.shape)\n",
        "print(my2darray.shape)\n",
        "print(my3darray.shape)"
      ]
    },
    {
      "attachments": {},
      "cell_type": "markdown",
      "metadata": {},
      "source": [
        "array.dtype displays the data type of the array"
      ]
    },
    {
      "cell_type": "code",
      "execution_count": 6,
      "metadata": {
        "colab": {
          "base_uri": "https://localhost:8080/"
        },
        "id": "tR9-ZkQKvX9L",
        "outputId": "e56c9577-b9fb-47f4-f305-bfb2d4502150"
      },
      "outputs": [
        {
          "name": "stdout",
          "output_type": "stream",
          "text": [
            "int32\n",
            "int32\n",
            "int32\n"
          ]
        }
      ],
      "source": [
        "print(myarray.dtype)\n",
        "print(my2darray.dtype)\n",
        "print(my3darray.dtype)"
      ]
    },
    {
      "attachments": {},
      "cell_type": "markdown",
      "metadata": {},
      "source": [
        "array.itemsize displays the size of one element in the given array"
      ]
    },
    {
      "cell_type": "code",
      "execution_count": 7,
      "metadata": {
        "colab": {
          "base_uri": "https://localhost:8080/"
        },
        "id": "QdQeNqsrveRX",
        "outputId": "5b2cad97-8ec2-4868-d0d6-7f54a1edb4d9"
      },
      "outputs": [
        {
          "name": "stdout",
          "output_type": "stream",
          "text": [
            "4\n",
            "4\n",
            "4\n"
          ]
        }
      ],
      "source": [
        "print(myarray.itemsize)\n",
        "print(my2darray.itemsize)\n",
        "print(my3darray.itemsize)"
      ]
    },
    {
      "attachments": {},
      "cell_type": "markdown",
      "metadata": {},
      "source": [
        "array.strides displays the no. of bytes should skip to go to the next element"
      ]
    },
    {
      "cell_type": "code",
      "execution_count": 8,
      "metadata": {
        "colab": {
          "base_uri": "https://localhost:8080/"
        },
        "id": "9qNdnR8Bw3Vp",
        "outputId": "682e6fab-1c0d-49c8-f2ec-96867e529077"
      },
      "outputs": [
        {
          "name": "stdout",
          "output_type": "stream",
          "text": [
            "(4,)\n",
            "(20, 4)\n",
            "(60, 20, 4)\n"
          ]
        }
      ],
      "source": [
        "print(myarray.strides)\n",
        "print(my2darray.strides)\n",
        "print(my3darray.strides)"
      ]
    },
    {
      "attachments": {},
      "cell_type": "markdown",
      "metadata": {},
      "source": [
        "**Creating an array using built-in Numpy functions**"
      ]
    },
    {
      "attachments": {},
      "cell_type": "markdown",
      "metadata": {},
      "source": [
        "Array of one's \\\n",
        "Syntax: np.ones((shape))"
      ]
    },
    {
      "cell_type": "code",
      "execution_count": 9,
      "metadata": {},
      "outputs": [
        {
          "name": "stdout",
          "output_type": "stream",
          "text": [
            "[[1. 1. 1. 1. 1. 1. 1. 1.]\n",
            " [1. 1. 1. 1. 1. 1. 1. 1.]\n",
            " [1. 1. 1. 1. 1. 1. 1. 1.]\n",
            " [1. 1. 1. 1. 1. 1. 1. 1.]\n",
            " [1. 1. 1. 1. 1. 1. 1. 1.]]\n"
          ]
        }
      ],
      "source": [
        "ones = np.ones((5,8))\n",
        "\n",
        "print(ones)"
      ]
    },
    {
      "attachments": {},
      "cell_type": "markdown",
      "metadata": {},
      "source": [
        "Array of zero's\\\n",
        "Syntax: np.zeros((shape), dtype=data-type)"
      ]
    },
    {
      "cell_type": "code",
      "execution_count": 10,
      "metadata": {},
      "outputs": [
        {
          "name": "stdout",
          "output_type": "stream",
          "text": [
            "[[[0 0 0 0]\n",
            "  [0 0 0 0]\n",
            "  [0 0 0 0]]\n",
            "\n",
            " [[0 0 0 0]\n",
            "  [0 0 0 0]\n",
            "  [0 0 0 0]]]\n"
          ]
        }
      ],
      "source": [
        "zeros = np.zeros((2,3,4), dtype=np.int16)\n",
        "print(zeros)"
      ]
    },
    {
      "attachments": {},
      "cell_type": "markdown",
      "metadata": {},
      "source": [
        "Array of random numbers\\\n",
        "Syntax: np.random.random((shape))"
      ]
    },
    {
      "cell_type": "code",
      "execution_count": 11,
      "metadata": {},
      "outputs": [
        {
          "name": "stdout",
          "output_type": "stream",
          "text": [
            "[[[0.32786069 0.13232416 0.31443285 0.57726546]\n",
            "  [0.35515365 0.98480243 0.49571057 0.22047474]\n",
            "  [0.1550114  0.22083041 0.18645559 0.96782312]\n",
            "  [0.97207206 0.7467741  0.22791662 0.25050175]\n",
            "  [0.16958288 0.16912449 0.76400741 0.70136148]]\n",
            "\n",
            " [[0.86969623 0.30147811 0.02981253 0.54273697]\n",
            "  [0.63277267 0.46624542 0.29347171 0.15752431]\n",
            "  [0.92416415 0.12629246 0.85651021 0.86157133]\n",
            "  [0.34009758 0.01408613 0.63585464 0.0679206 ]\n",
            "  [0.03653461 0.24975293 0.75201177 0.52045807]]]\n"
          ]
        }
      ],
      "source": [
        "thearray=np.random.random((2,5,4))\n",
        "print(thearray)"
      ]
    },
    {
      "attachments": {},
      "cell_type": "markdown",
      "metadata": {},
      "source": [
        "Empty array with given shape (x,y,z)\n",
        "\n",
        "Syntax: np.empty((shape))\n"
      ]
    },
    {
      "cell_type": "code",
      "execution_count": 12,
      "metadata": {},
      "outputs": [
        {
          "name": "stdout",
          "output_type": "stream",
          "text": [
            "[[0. 0. 0.]\n",
            " [0. 0. 0.]]\n"
          ]
        }
      ],
      "source": [
        "Empty_array = np.empty((2,3))\n",
        "print(Empty_array)"
      ]
    },
    {
      "attachments": {},
      "cell_type": "markdown",
      "metadata": {},
      "source": [
        "Full array with given shape(2,8) with data '5'\n",
        "\n",
        "Syntax:  np.full((shape), data_to_be_filled)"
      ]
    },
    {
      "cell_type": "code",
      "execution_count": 13,
      "metadata": {},
      "outputs": [
        {
          "name": "stdout",
          "output_type": "stream",
          "text": [
            "[[5 5 5 5 5 5 5 5]\n",
            " [5 5 5 5 5 5 5 5]]\n"
          ]
        }
      ],
      "source": [
        "full_array= np.full((2,8),5)\n",
        "print(full_array)"
      ]
    },
    {
      "attachments": {},
      "cell_type": "markdown",
      "metadata": {},
      "source": [
        "Array of evenly-spaced values\n",
        "\n",
        "Syntax: np.arange(start, end, space)"
      ]
    },
    {
      "cell_type": "code",
      "execution_count": 14,
      "metadata": {},
      "outputs": [
        {
          "name": "stdout",
          "output_type": "stream",
          "text": [
            "[10 15 20]\n",
            "[ 2  7 12 17 22]\n"
          ]
        }
      ],
      "source": [
        "evenly_spaced_array = np.arange(2,25,5)\n",
        "array2 = np .arange(10, 25, 5)\n",
        "print(array2)\n",
        "print(evenly_spaced_array)"
      ]
    },
    {
      "attachments": {},
      "cell_type": "markdown",
      "metadata": {},
      "source": [
        "Array of spaced values with given range and no. of elements\n",
        "\n",
        "Syntax: np.linspace(start, end, no. of elements)"
      ]
    },
    {
      "cell_type": "code",
      "execution_count": 15,
      "metadata": {},
      "outputs": [
        {
          "name": "stdout",
          "output_type": "stream",
          "text": [
            "[1.    1.125 1.25  1.375 1.5   1.625 1.75  1.875 2.   ]\n"
          ]
        }
      ],
      "source": [
        "array1=np.linspace(1, 2, 9)\n",
        "print(array1)"
      ]
    },
    {
      "attachments": {},
      "cell_type": "markdown",
      "metadata": {},
      "source": [
        "**Numpy array and file operations**"
      ]
    },
    {
      "attachments": {},
      "cell_type": "markdown",
      "metadata": {},
      "source": [
        "saving the array to a file\n",
        "and file is also generated by it\n",
        "\n",
        "Syntax : np.savetxt(\"file_name.txt\", array , dlimiter = \"\")\n",
        "\n",
        "For the below code there is no data.csv file"
      ]
    },
    {
      "cell_type": "code",
      "execution_count": 16,
      "metadata": {},
      "outputs": [],
      "source": [
        "x = np.arange(1,51,1)\n",
        "\n",
        "\n",
        "np.savetxt(\"data.csv\", np.c_[x,x], delimiter=',')"
      ]
    },
    {
      "attachments": {},
      "cell_type": "markdown",
      "metadata": {},
      "source": [
        "Loading the data from the given file\n",
        "\n",
        "Syntax : np.loadtxt(\"file_name\", )"
      ]
    },
    {
      "cell_type": "code",
      "execution_count": 17,
      "metadata": {},
      "outputs": [
        {
          "name": "stdout",
          "output_type": "stream",
          "text": [
            "<class 'numpy.ndarray'>\n",
            "[[ 1.  2.  3.  4.  5.  6.  7.  8.  9. 10. 11. 12. 13. 14. 15. 16. 17. 18.\n",
            "  19. 20. 21. 22. 23. 24. 25. 26. 27. 28. 29. 30. 31. 32. 33. 34. 35. 36.\n",
            "  37. 38. 39. 40. 41. 42. 43. 44. 45. 46. 47. 48. 49. 50.]\n",
            " [ 1.  2.  3.  4.  5.  6.  7.  8.  9. 10. 11. 12. 13. 14. 15. 16. 17. 18.\n",
            "  19. 20. 21. 22. 23. 24. 25. 26. 27. 28. 29. 30. 31. 32. 33. 34. 35. 36.\n",
            "  37. 38. 39. 40. 41. 42. 43. 44. 45. 46. 47. 48. 49. 50.]]\n"
          ]
        }
      ],
      "source": [
        "z= np. loadtxt('data.csv', unpack=True, delimiter=',')\n",
        "print(type(z))\n",
        "print(z)"
      ]
    },
    {
      "cell_type": "code",
      "execution_count": null,
      "metadata": {},
      "outputs": [],
      "source": []
    },
    {
      "cell_type": "code",
      "execution_count": 18,
      "metadata": {},
      "outputs": [],
      "source": [
        "my_array= np.genfromtxt(\"data.out\", skip_header=1, filling_values=-999)"
      ]
    },
    {
      "attachments": {},
      "cell_type": "markdown",
      "metadata": {},
      "source": [
        "#### Prints the which dimension array it is "
      ]
    },
    {
      "cell_type": "code",
      "execution_count": 19,
      "metadata": {},
      "outputs": [
        {
          "data": {
            "text/plain": [
              "2"
            ]
          },
          "execution_count": 19,
          "metadata": {},
          "output_type": "execute_result"
        }
      ],
      "source": [
        "my2darray.ndim"
      ]
    },
    {
      "attachments": {},
      "cell_type": "markdown",
      "metadata": {},
      "source": [
        "### Prints the flags of the array"
      ]
    },
    {
      "cell_type": "code",
      "execution_count": 20,
      "metadata": {},
      "outputs": [
        {
          "data": {
            "text/plain": [
              "  C_CONTIGUOUS : True\n",
              "  F_CONTIGUOUS : False\n",
              "  OWNDATA : True\n",
              "  WRITEABLE : True\n",
              "  ALIGNED : True\n",
              "  WRITEBACKIFCOPY : False"
            ]
          },
          "execution_count": 20,
          "metadata": {},
          "output_type": "execute_result"
        }
      ],
      "source": [
        "my2darray.flags"
      ]
    },
    {
      "cell_type": "code",
      "execution_count": 21,
      "metadata": {},
      "outputs": [
        {
          "name": "stdout",
          "output_type": "stream",
          "text": [
            "[[ 1  2  3  4  5]\n",
            " [ 2  4  6  8 10]\n",
            " [ 1  4  9 16 25]]\n",
            "4\n"
          ]
        },
        {
          "data": {
            "text/plain": [
              "60"
            ]
          },
          "execution_count": 21,
          "metadata": {},
          "output_type": "execute_result"
        }
      ],
      "source": [
        "\n",
        "print(my2darray)\n",
        "print(my2darray.itemsize)\n",
        "\n",
        "my2darray.nbytes"
      ]
    },
    {
      "attachments": {},
      "cell_type": "markdown",
      "metadata": {},
      "source": [
        "### Accessing the array elements"
      ]
    },
    {
      "cell_type": "code",
      "execution_count": 22,
      "metadata": {},
      "outputs": [
        {
          "name": "stdout",
          "output_type": "stream",
          "text": [
            "2\n",
            "4\n",
            "1\n",
            "[1 2 3 4 5]\n"
          ]
        }
      ],
      "source": [
        "print(my2darray[0,1])\n",
        "\n",
        "print(my2darray[0,-2])\n",
        "\n",
        "print(my2darray[-1,-5])\n",
        "\n",
        "print(my2darray[0])"
      ]
    },
    {
      "cell_type": "code",
      "execution_count": 23,
      "metadata": {},
      "outputs": [
        {
          "name": "stdout",
          "output_type": "stream",
          "text": [
            "[1 2 3 4 5]\n",
            "[3 6 9]\n"
          ]
        }
      ],
      "source": [
        "print(my2darray[0,:])\n",
        "\n",
        "print(my2darray[:,2])"
      ]
    },
    {
      "attachments": {},
      "cell_type": "markdown",
      "metadata": {},
      "source": [
        "### Accessing the values in an array"
      ]
    },
    {
      "cell_type": "code",
      "execution_count": 24,
      "metadata": {},
      "outputs": [
        {
          "name": "stdout",
          "output_type": "stream",
          "text": [
            "[[ 1  2  3  4  6]\n",
            " [ 2  4  6  8 12]\n",
            " [ 1  4  9 16 36]]\n"
          ]
        }
      ],
      "source": [
        "my2darray[:,4]= [6,12,36]\n",
        "\n",
        "print(my2darray)"
      ]
    },
    {
      "cell_type": "code",
      "execution_count": 25,
      "metadata": {},
      "outputs": [
        {
          "name": "stdout",
          "output_type": "stream",
          "text": [
            "[[ 1  2  2  4  6]\n",
            " [ 2  4  2  8 12]\n",
            " [ 1  4  2 16 36]]\n"
          ]
        }
      ],
      "source": [
        "my2darray[:,2]=2\n",
        "print(my2darray)"
      ]
    },
    {
      "cell_type": "code",
      "execution_count": 26,
      "metadata": {},
      "outputs": [
        {
          "data": {
            "text/plain": [
              "3"
            ]
          },
          "execution_count": 26,
          "metadata": {},
          "output_type": "execute_result"
        }
      ],
      "source": [
        "my3darray.ndim"
      ]
    },
    {
      "attachments": {},
      "cell_type": "markdown",
      "metadata": {},
      "source": [
        "### **Mathematical operations**"
      ]
    },
    {
      "cell_type": "code",
      "execution_count": 27,
      "metadata": {},
      "outputs": [
        {
          "name": "stdout",
          "output_type": "stream",
          "text": [
            "[ 7  9 11 13 15]\n"
          ]
        }
      ],
      "source": [
        "a= np.array([1,2,3,4,5])\n",
        "b= np.array([6,7,8,9,10])\n",
        "\n",
        "addition = a+b\n",
        "print(addition)"
      ]
    },
    {
      "cell_type": "code",
      "execution_count": 28,
      "metadata": {},
      "outputs": [
        {
          "name": "stdout",
          "output_type": "stream",
          "text": [
            "[ 7  9 11 13 15]\n",
            "[5 5 5 5 5]\n",
            "[ 6 14 24 36 50]\n",
            "[0.16666667 0.28571429 0.375      0.44444444 0.5       ]\n",
            "[1 2 3 4 5]\n"
          ]
        }
      ],
      "source": [
        "add = np.add(a,b)\n",
        "sub = np.subtract(b,a)\n",
        "mul = np.multiply(a,b)\n",
        "div = np.divide(a,b)\n",
        "rem = np.remainder(a,b)\n",
        "\n",
        "print(add)\n",
        "print(sub)\n",
        "print(mul)\n",
        "print(div)\n",
        "print(rem)"
      ]
    },
    {
      "attachments": {},
      "cell_type": "markdown",
      "metadata": {},
      "source": [
        "### Reorganising the array\n"
      ]
    },
    {
      "cell_type": "code",
      "execution_count": 29,
      "metadata": {},
      "outputs": [
        {
          "name": "stdout",
          "output_type": "stream",
          "text": [
            "[[ 1  2  2]\n",
            " [ 4  6  2]\n",
            " [ 4  2  8]\n",
            " [12  1  4]\n",
            " [ 2 16 36]]\n"
          ]
        }
      ],
      "source": [
        "changed = my2darray.reshape(5,3)\n",
        "print(changed)"
      ]
    },
    {
      "attachments": {},
      "cell_type": "markdown",
      "metadata": {},
      "source": [
        "**Creating the vertical stack using two arrays**"
      ]
    },
    {
      "cell_type": "code",
      "execution_count": 30,
      "metadata": {},
      "outputs": [
        {
          "data": {
            "text/plain": [
              "array([[ 1,  2,  3,  4,  5],\n",
              "       [ 6,  7,  8,  9, 10]])"
            ]
          },
          "execution_count": 30,
          "metadata": {},
          "output_type": "execute_result"
        }
      ],
      "source": [
        "np.vstack((a,b))"
      ]
    },
    {
      "attachments": {},
      "cell_type": "markdown",
      "metadata": {},
      "source": [
        "**Creating the horizontal stack using two arrays**"
      ]
    },
    {
      "cell_type": "code",
      "execution_count": 31,
      "metadata": {},
      "outputs": [
        {
          "data": {
            "text/plain": [
              "array([ 1,  2,  3,  4,  5,  6,  7,  8,  9, 10])"
            ]
          },
          "execution_count": 31,
          "metadata": {},
          "output_type": "execute_result"
        }
      ],
      "source": [
        "np.hstack((a,b))"
      ]
    },
    {
      "cell_type": "code",
      "execution_count": 32,
      "metadata": {},
      "outputs": [
        {
          "name": "stdout",
          "output_type": "stream",
          "text": [
            "[1 2 3 4 5]\n",
            "[1 2]\n",
            "[2 3 4]\n",
            "[[ 1  2  2  4  6]\n",
            " [ 2  4  2  8 12]\n",
            " [ 1  4  2 16 36]]\n",
            "\n",
            "\n",
            "[[ 2  4  6]\n",
            " [ 2  8 12]\n",
            " [ 2 16 36]]\n",
            "[[1. 0. 0. 0. 0. 0.]\n",
            " [0. 1. 0. 0. 0. 0.]\n",
            " [0. 0. 1. 0. 0. 0.]\n",
            " [0. 0. 0. 1. 0. 0.]\n",
            " [0. 0. 0. 0. 1. 0.]\n",
            " [0. 0. 0. 0. 0. 1.]]\n",
            "[[0. 0.]\n",
            " [0. 0.]\n",
            " [1. 0.]]\n"
          ]
        }
      ],
      "source": [
        "print(a)\n",
        "print(a[0:2])\n",
        "print(a[1:4])\n",
        "print(my2darray,end=\"\\n\\n\\n\")\n",
        "\n",
        "print(my2darray[:,2:5])\n",
        "\n",
        "test = np.identity(6)\n",
        "\n",
        "print(test)\n",
        "\n",
        "print(test[2:5,4:])\n"
      ]
    },
    {
      "attachments": {},
      "cell_type": "markdown",
      "metadata": {},
      "source": [
        "**Specifying the conditions**"
      ]
    },
    {
      "cell_type": "code",
      "execution_count": 33,
      "metadata": {},
      "outputs": [
        {
          "name": "stdout",
          "output_type": "stream",
          "text": [
            "[[ 1  2  2  4  6]\n",
            " [ 2  4  2  8 12]\n",
            " [ 1  4  2 16 36]]\n",
            "\n",
            "\n",
            "[ 4  6  4  8 12  4 16 36]\n"
          ]
        }
      ],
      "source": [
        "biggerthan = (my2darray>=4)\n",
        "print(my2darray,end=\"\\n\\n\\n\")\n",
        "print(my2darray[biggerthan])"
      ]
    },
    {
      "cell_type": "code",
      "execution_count": 34,
      "metadata": {},
      "outputs": [
        {
          "data": {
            "text/plain": [
              "array([[1, 3, 4, 5, 6],\n",
              "       [4, 3, 1, 5, 6],\n",
              "       [1, 3, 4, 5, 6]])"
            ]
          },
          "execution_count": 34,
          "metadata": {},
          "output_type": "execute_result"
        }
      ],
      "source": [
        "data = np.array([[1,3,4,5,6],[4,3,1,5,6],[1,3,4,5,6]])\n",
        "data"
      ]
    },
    {
      "cell_type": "code",
      "execution_count": 35,
      "metadata": {},
      "outputs": [
        {
          "name": "stdout",
          "output_type": "stream",
          "text": [
            "[ True False  True  True  True]\n",
            "[False False False]\n"
          ]
        }
      ],
      "source": [
        "ss = np.any(data>3, axis =0)\n",
        "print(ss)\n",
        "ss=np.any(data<1, axis=1)\n",
        "print(ss)"
      ]
    },
    {
      "cell_type": "code",
      "execution_count": 36,
      "metadata": {},
      "outputs": [
        {
          "name": "stdout",
          "output_type": "stream",
          "text": [
            "min values in coulmn [1 3 1 5 6]\n",
            "min values in row  [1 1 1]\n",
            "max values in coulmn  [4 3 4 5 6]\n",
            "max values in row  [6 6 6]\n"
          ]
        }
      ],
      "source": [
        "r = np.min(data, axis =0)\n",
        "print(\"min values in coulmn\",r)\n",
        "r = np.min(data, axis =1)\n",
        "print(\"min values in row \",r)\n",
        "r = np.max(data, axis =0)\n",
        "print(\"max values in coulmn \",r)\n",
        "r = np.max(data, axis =1)\n",
        "print(\"max values in row \",r)"
      ]
    },
    {
      "attachments": {},
      "cell_type": "markdown",
      "metadata": {},
      "source": [
        "Prints the sum of all elements in given array/matrix"
      ]
    },
    {
      "cell_type": "code",
      "execution_count": 37,
      "metadata": {},
      "outputs": [
        {
          "data": {
            "text/plain": [
              "57"
            ]
          },
          "execution_count": 37,
          "metadata": {},
          "output_type": "execute_result"
        }
      ],
      "source": [
        "np.sum(data)"
      ]
    },
    {
      "cell_type": "markdown",
      "metadata": {},
      "source": [
        "Prints the minimum element in a given matrix/array"
      ]
    },
    {
      "cell_type": "code",
      "execution_count": 38,
      "metadata": {},
      "outputs": [
        {
          "data": {
            "text/plain": [
              "1"
            ]
          },
          "execution_count": 38,
          "metadata": {},
          "output_type": "execute_result"
        }
      ],
      "source": [
        "np.min(data)"
      ]
    },
    {
      "attachments": {},
      "cell_type": "markdown",
      "metadata": {},
      "source": [
        "## Pandas"
      ]
    },
    {
      "cell_type": "code",
      "execution_count": 39,
      "metadata": {},
      "outputs": [],
      "source": [
        "import pandas as pd"
      ]
    },
    {
      "cell_type": "code",
      "execution_count": 40,
      "metadata": {},
      "outputs": [
        {
          "data": {
            "text/html": [
              "<div>\n",
              "<style scoped>\n",
              "    .dataframe tbody tr th:only-of-type {\n",
              "        vertical-align: middle;\n",
              "    }\n",
              "\n",
              "    .dataframe tbody tr th {\n",
              "        vertical-align: top;\n",
              "    }\n",
              "\n",
              "    .dataframe thead th {\n",
              "        text-align: right;\n",
              "    }\n",
              "</style>\n",
              "<table border=\"1\" class=\"dataframe\">\n",
              "  <thead>\n",
              "    <tr style=\"text-align: right;\">\n",
              "      <th></th>\n",
              "      <th>Data.Precipitation</th>\n",
              "      <th>Date.Full</th>\n",
              "      <th>Date.Month</th>\n",
              "      <th>Date.Week of</th>\n",
              "      <th>Date.Year</th>\n",
              "      <th>Station.City</th>\n",
              "      <th>Station.Code</th>\n",
              "      <th>Station.Location</th>\n",
              "      <th>Station.State</th>\n",
              "      <th>Data.Temperature.Avg Temp</th>\n",
              "      <th>Data.Temperature.Max Temp</th>\n",
              "      <th>Data.Temperature.Min Temp</th>\n",
              "      <th>Data.Wind.Direction</th>\n",
              "      <th>Data.Wind.Speed</th>\n",
              "    </tr>\n",
              "  </thead>\n",
              "  <tbody>\n",
              "    <tr>\n",
              "      <th>0</th>\n",
              "      <td>0.00</td>\n",
              "      <td>2016-01-03</td>\n",
              "      <td>1</td>\n",
              "      <td>3</td>\n",
              "      <td>2016</td>\n",
              "      <td>Birmingham</td>\n",
              "      <td>BHM</td>\n",
              "      <td>Birmingham, AL</td>\n",
              "      <td>Alabama</td>\n",
              "      <td>39</td>\n",
              "      <td>46</td>\n",
              "      <td>32</td>\n",
              "      <td>33</td>\n",
              "      <td>4.33</td>\n",
              "    </tr>\n",
              "    <tr>\n",
              "      <th>1</th>\n",
              "      <td>0.00</td>\n",
              "      <td>2016-01-03</td>\n",
              "      <td>1</td>\n",
              "      <td>3</td>\n",
              "      <td>2016</td>\n",
              "      <td>Huntsville</td>\n",
              "      <td>HSV</td>\n",
              "      <td>Huntsville, AL</td>\n",
              "      <td>Alabama</td>\n",
              "      <td>39</td>\n",
              "      <td>47</td>\n",
              "      <td>31</td>\n",
              "      <td>32</td>\n",
              "      <td>3.86</td>\n",
              "    </tr>\n",
              "    <tr>\n",
              "      <th>2</th>\n",
              "      <td>0.16</td>\n",
              "      <td>2016-01-03</td>\n",
              "      <td>1</td>\n",
              "      <td>3</td>\n",
              "      <td>2016</td>\n",
              "      <td>Mobile</td>\n",
              "      <td>MOB</td>\n",
              "      <td>Mobile, AL</td>\n",
              "      <td>Alabama</td>\n",
              "      <td>46</td>\n",
              "      <td>51</td>\n",
              "      <td>41</td>\n",
              "      <td>35</td>\n",
              "      <td>9.73</td>\n",
              "    </tr>\n",
              "    <tr>\n",
              "      <th>3</th>\n",
              "      <td>0.00</td>\n",
              "      <td>2016-01-03</td>\n",
              "      <td>1</td>\n",
              "      <td>3</td>\n",
              "      <td>2016</td>\n",
              "      <td>Montgomery</td>\n",
              "      <td>MGM</td>\n",
              "      <td>Montgomery, AL</td>\n",
              "      <td>Alabama</td>\n",
              "      <td>45</td>\n",
              "      <td>52</td>\n",
              "      <td>38</td>\n",
              "      <td>32</td>\n",
              "      <td>6.86</td>\n",
              "    </tr>\n",
              "    <tr>\n",
              "      <th>4</th>\n",
              "      <td>0.01</td>\n",
              "      <td>2016-01-03</td>\n",
              "      <td>1</td>\n",
              "      <td>3</td>\n",
              "      <td>2016</td>\n",
              "      <td>Anchorage</td>\n",
              "      <td>ANC</td>\n",
              "      <td>Anchorage, AK</td>\n",
              "      <td>Alaska</td>\n",
              "      <td>34</td>\n",
              "      <td>38</td>\n",
              "      <td>29</td>\n",
              "      <td>19</td>\n",
              "      <td>7.80</td>\n",
              "    </tr>\n",
              "    <tr>\n",
              "      <th>...</th>\n",
              "      <td>...</td>\n",
              "      <td>...</td>\n",
              "      <td>...</td>\n",
              "      <td>...</td>\n",
              "      <td>...</td>\n",
              "      <td>...</td>\n",
              "      <td>...</td>\n",
              "      <td>...</td>\n",
              "      <td>...</td>\n",
              "      <td>...</td>\n",
              "      <td>...</td>\n",
              "      <td>...</td>\n",
              "      <td>...</td>\n",
              "      <td>...</td>\n",
              "    </tr>\n",
              "    <tr>\n",
              "      <th>16738</th>\n",
              "      <td>0.08</td>\n",
              "      <td>2017-01-01</td>\n",
              "      <td>1</td>\n",
              "      <td>1</td>\n",
              "      <td>2017</td>\n",
              "      <td>Casper</td>\n",
              "      <td>CPR</td>\n",
              "      <td>Casper, WY</td>\n",
              "      <td>Wyoming</td>\n",
              "      <td>23</td>\n",
              "      <td>32</td>\n",
              "      <td>15</td>\n",
              "      <td>23</td>\n",
              "      <td>19.98</td>\n",
              "    </tr>\n",
              "    <tr>\n",
              "      <th>16739</th>\n",
              "      <td>0.00</td>\n",
              "      <td>2017-01-01</td>\n",
              "      <td>1</td>\n",
              "      <td>1</td>\n",
              "      <td>2017</td>\n",
              "      <td>Cheyenne</td>\n",
              "      <td>CYS</td>\n",
              "      <td>Cheyenne, WY</td>\n",
              "      <td>Wyoming</td>\n",
              "      <td>32</td>\n",
              "      <td>42</td>\n",
              "      <td>21</td>\n",
              "      <td>26</td>\n",
              "      <td>15.16</td>\n",
              "    </tr>\n",
              "    <tr>\n",
              "      <th>16740</th>\n",
              "      <td>0.00</td>\n",
              "      <td>2017-01-01</td>\n",
              "      <td>1</td>\n",
              "      <td>1</td>\n",
              "      <td>2017</td>\n",
              "      <td>Lander</td>\n",
              "      <td>LND</td>\n",
              "      <td>Lander, WY</td>\n",
              "      <td>Wyoming</td>\n",
              "      <td>17</td>\n",
              "      <td>29</td>\n",
              "      <td>4</td>\n",
              "      <td>26</td>\n",
              "      <td>1.65</td>\n",
              "    </tr>\n",
              "    <tr>\n",
              "      <th>16741</th>\n",
              "      <td>0.06</td>\n",
              "      <td>2017-01-01</td>\n",
              "      <td>1</td>\n",
              "      <td>1</td>\n",
              "      <td>2017</td>\n",
              "      <td>Rawlins</td>\n",
              "      <td>RWL</td>\n",
              "      <td>Rawlins, WY</td>\n",
              "      <td>Wyoming</td>\n",
              "      <td>23</td>\n",
              "      <td>31</td>\n",
              "      <td>13</td>\n",
              "      <td>24</td>\n",
              "      <td>18.16</td>\n",
              "    </tr>\n",
              "    <tr>\n",
              "      <th>16742</th>\n",
              "      <td>0.10</td>\n",
              "      <td>2017-01-01</td>\n",
              "      <td>1</td>\n",
              "      <td>1</td>\n",
              "      <td>2017</td>\n",
              "      <td>Sheridan</td>\n",
              "      <td>SHR</td>\n",
              "      <td>Sheridan, WY</td>\n",
              "      <td>Wyoming</td>\n",
              "      <td>21</td>\n",
              "      <td>34</td>\n",
              "      <td>8</td>\n",
              "      <td>23</td>\n",
              "      <td>7.51</td>\n",
              "    </tr>\n",
              "  </tbody>\n",
              "</table>\n",
              "<p>16743 rows × 14 columns</p>\n",
              "</div>"
            ],
            "text/plain": [
              "       Data.Precipitation   Date.Full  Date.Month  Date.Week of  Date.Year  \\\n",
              "0                    0.00  2016-01-03           1             3       2016   \n",
              "1                    0.00  2016-01-03           1             3       2016   \n",
              "2                    0.16  2016-01-03           1             3       2016   \n",
              "3                    0.00  2016-01-03           1             3       2016   \n",
              "4                    0.01  2016-01-03           1             3       2016   \n",
              "...                   ...         ...         ...           ...        ...   \n",
              "16738                0.08  2017-01-01           1             1       2017   \n",
              "16739                0.00  2017-01-01           1             1       2017   \n",
              "16740                0.00  2017-01-01           1             1       2017   \n",
              "16741                0.06  2017-01-01           1             1       2017   \n",
              "16742                0.10  2017-01-01           1             1       2017   \n",
              "\n",
              "      Station.City Station.Code Station.Location Station.State  \\\n",
              "0       Birmingham          BHM   Birmingham, AL       Alabama   \n",
              "1       Huntsville          HSV   Huntsville, AL       Alabama   \n",
              "2           Mobile          MOB       Mobile, AL       Alabama   \n",
              "3       Montgomery          MGM   Montgomery, AL       Alabama   \n",
              "4        Anchorage          ANC    Anchorage, AK        Alaska   \n",
              "...            ...          ...              ...           ...   \n",
              "16738       Casper          CPR       Casper, WY       Wyoming   \n",
              "16739     Cheyenne          CYS     Cheyenne, WY       Wyoming   \n",
              "16740       Lander          LND       Lander, WY       Wyoming   \n",
              "16741      Rawlins          RWL      Rawlins, WY       Wyoming   \n",
              "16742     Sheridan          SHR     Sheridan, WY       Wyoming   \n",
              "\n",
              "       Data.Temperature.Avg Temp  Data.Temperature.Max Temp  \\\n",
              "0                             39                         46   \n",
              "1                             39                         47   \n",
              "2                             46                         51   \n",
              "3                             45                         52   \n",
              "4                             34                         38   \n",
              "...                          ...                        ...   \n",
              "16738                         23                         32   \n",
              "16739                         32                         42   \n",
              "16740                         17                         29   \n",
              "16741                         23                         31   \n",
              "16742                         21                         34   \n",
              "\n",
              "       Data.Temperature.Min Temp  Data.Wind.Direction  Data.Wind.Speed  \n",
              "0                             32                   33             4.33  \n",
              "1                             31                   32             3.86  \n",
              "2                             41                   35             9.73  \n",
              "3                             38                   32             6.86  \n",
              "4                             29                   19             7.80  \n",
              "...                          ...                  ...              ...  \n",
              "16738                         15                   23            19.98  \n",
              "16739                         21                   26            15.16  \n",
              "16740                          4                   26             1.65  \n",
              "16741                         13                   24            18.16  \n",
              "16742                          8                   23             7.51  \n",
              "\n",
              "[16743 rows x 14 columns]"
            ]
          },
          "execution_count": 40,
          "metadata": {},
          "output_type": "execute_result"
        }
      ],
      "source": [
        "data = pd.read_csv(\"weather.csv\")\n",
        "data"
      ]
    },
    {
      "cell_type": "code",
      "execution_count": 41,
      "metadata": {},
      "outputs": [
        {
          "data": {
            "text/html": [
              "<div>\n",
              "<style scoped>\n",
              "    .dataframe tbody tr th:only-of-type {\n",
              "        vertical-align: middle;\n",
              "    }\n",
              "\n",
              "    .dataframe tbody tr th {\n",
              "        vertical-align: top;\n",
              "    }\n",
              "\n",
              "    .dataframe thead th {\n",
              "        text-align: right;\n",
              "    }\n",
              "</style>\n",
              "<table border=\"1\" class=\"dataframe\">\n",
              "  <thead>\n",
              "    <tr style=\"text-align: right;\">\n",
              "      <th></th>\n",
              "      <th>Data.Precipitation</th>\n",
              "      <th>Date.Full</th>\n",
              "      <th>Date.Month</th>\n",
              "      <th>Date.Year</th>\n",
              "      <th>Station.City</th>\n",
              "      <th>Station.Code</th>\n",
              "      <th>Station.Location</th>\n",
              "      <th>Station.State</th>\n",
              "      <th>Data.Temperature.Avg Temp</th>\n",
              "      <th>Data.Temperature.Max Temp</th>\n",
              "      <th>Data.Temperature.Min Temp</th>\n",
              "      <th>Data.Wind.Direction</th>\n",
              "      <th>Data.Wind.Speed</th>\n",
              "    </tr>\n",
              "    <tr>\n",
              "      <th>Date.Week of</th>\n",
              "      <th></th>\n",
              "      <th></th>\n",
              "      <th></th>\n",
              "      <th></th>\n",
              "      <th></th>\n",
              "      <th></th>\n",
              "      <th></th>\n",
              "      <th></th>\n",
              "      <th></th>\n",
              "      <th></th>\n",
              "      <th></th>\n",
              "      <th></th>\n",
              "      <th></th>\n",
              "    </tr>\n",
              "  </thead>\n",
              "  <tbody>\n",
              "    <tr>\n",
              "      <th>3</th>\n",
              "      <td>0.00</td>\n",
              "      <td>2016-01-03</td>\n",
              "      <td>1</td>\n",
              "      <td>2016</td>\n",
              "      <td>Birmingham</td>\n",
              "      <td>BHM</td>\n",
              "      <td>Birmingham, AL</td>\n",
              "      <td>Alabama</td>\n",
              "      <td>39</td>\n",
              "      <td>46</td>\n",
              "      <td>32</td>\n",
              "      <td>33</td>\n",
              "      <td>4.33</td>\n",
              "    </tr>\n",
              "    <tr>\n",
              "      <th>3</th>\n",
              "      <td>0.00</td>\n",
              "      <td>2016-01-03</td>\n",
              "      <td>1</td>\n",
              "      <td>2016</td>\n",
              "      <td>Huntsville</td>\n",
              "      <td>HSV</td>\n",
              "      <td>Huntsville, AL</td>\n",
              "      <td>Alabama</td>\n",
              "      <td>39</td>\n",
              "      <td>47</td>\n",
              "      <td>31</td>\n",
              "      <td>32</td>\n",
              "      <td>3.86</td>\n",
              "    </tr>\n",
              "    <tr>\n",
              "      <th>3</th>\n",
              "      <td>0.16</td>\n",
              "      <td>2016-01-03</td>\n",
              "      <td>1</td>\n",
              "      <td>2016</td>\n",
              "      <td>Mobile</td>\n",
              "      <td>MOB</td>\n",
              "      <td>Mobile, AL</td>\n",
              "      <td>Alabama</td>\n",
              "      <td>46</td>\n",
              "      <td>51</td>\n",
              "      <td>41</td>\n",
              "      <td>35</td>\n",
              "      <td>9.73</td>\n",
              "    </tr>\n",
              "    <tr>\n",
              "      <th>3</th>\n",
              "      <td>0.00</td>\n",
              "      <td>2016-01-03</td>\n",
              "      <td>1</td>\n",
              "      <td>2016</td>\n",
              "      <td>Montgomery</td>\n",
              "      <td>MGM</td>\n",
              "      <td>Montgomery, AL</td>\n",
              "      <td>Alabama</td>\n",
              "      <td>45</td>\n",
              "      <td>52</td>\n",
              "      <td>38</td>\n",
              "      <td>32</td>\n",
              "      <td>6.86</td>\n",
              "    </tr>\n",
              "    <tr>\n",
              "      <th>3</th>\n",
              "      <td>0.01</td>\n",
              "      <td>2016-01-03</td>\n",
              "      <td>1</td>\n",
              "      <td>2016</td>\n",
              "      <td>Anchorage</td>\n",
              "      <td>ANC</td>\n",
              "      <td>Anchorage, AK</td>\n",
              "      <td>Alaska</td>\n",
              "      <td>34</td>\n",
              "      <td>38</td>\n",
              "      <td>29</td>\n",
              "      <td>19</td>\n",
              "      <td>7.80</td>\n",
              "    </tr>\n",
              "    <tr>\n",
              "      <th>...</th>\n",
              "      <td>...</td>\n",
              "      <td>...</td>\n",
              "      <td>...</td>\n",
              "      <td>...</td>\n",
              "      <td>...</td>\n",
              "      <td>...</td>\n",
              "      <td>...</td>\n",
              "      <td>...</td>\n",
              "      <td>...</td>\n",
              "      <td>...</td>\n",
              "      <td>...</td>\n",
              "      <td>...</td>\n",
              "      <td>...</td>\n",
              "    </tr>\n",
              "    <tr>\n",
              "      <th>1</th>\n",
              "      <td>0.08</td>\n",
              "      <td>2017-01-01</td>\n",
              "      <td>1</td>\n",
              "      <td>2017</td>\n",
              "      <td>Casper</td>\n",
              "      <td>CPR</td>\n",
              "      <td>Casper, WY</td>\n",
              "      <td>Wyoming</td>\n",
              "      <td>23</td>\n",
              "      <td>32</td>\n",
              "      <td>15</td>\n",
              "      <td>23</td>\n",
              "      <td>19.98</td>\n",
              "    </tr>\n",
              "    <tr>\n",
              "      <th>1</th>\n",
              "      <td>0.00</td>\n",
              "      <td>2017-01-01</td>\n",
              "      <td>1</td>\n",
              "      <td>2017</td>\n",
              "      <td>Cheyenne</td>\n",
              "      <td>CYS</td>\n",
              "      <td>Cheyenne, WY</td>\n",
              "      <td>Wyoming</td>\n",
              "      <td>32</td>\n",
              "      <td>42</td>\n",
              "      <td>21</td>\n",
              "      <td>26</td>\n",
              "      <td>15.16</td>\n",
              "    </tr>\n",
              "    <tr>\n",
              "      <th>1</th>\n",
              "      <td>0.00</td>\n",
              "      <td>2017-01-01</td>\n",
              "      <td>1</td>\n",
              "      <td>2017</td>\n",
              "      <td>Lander</td>\n",
              "      <td>LND</td>\n",
              "      <td>Lander, WY</td>\n",
              "      <td>Wyoming</td>\n",
              "      <td>17</td>\n",
              "      <td>29</td>\n",
              "      <td>4</td>\n",
              "      <td>26</td>\n",
              "      <td>1.65</td>\n",
              "    </tr>\n",
              "    <tr>\n",
              "      <th>1</th>\n",
              "      <td>0.06</td>\n",
              "      <td>2017-01-01</td>\n",
              "      <td>1</td>\n",
              "      <td>2017</td>\n",
              "      <td>Rawlins</td>\n",
              "      <td>RWL</td>\n",
              "      <td>Rawlins, WY</td>\n",
              "      <td>Wyoming</td>\n",
              "      <td>23</td>\n",
              "      <td>31</td>\n",
              "      <td>13</td>\n",
              "      <td>24</td>\n",
              "      <td>18.16</td>\n",
              "    </tr>\n",
              "    <tr>\n",
              "      <th>1</th>\n",
              "      <td>0.10</td>\n",
              "      <td>2017-01-01</td>\n",
              "      <td>1</td>\n",
              "      <td>2017</td>\n",
              "      <td>Sheridan</td>\n",
              "      <td>SHR</td>\n",
              "      <td>Sheridan, WY</td>\n",
              "      <td>Wyoming</td>\n",
              "      <td>21</td>\n",
              "      <td>34</td>\n",
              "      <td>8</td>\n",
              "      <td>23</td>\n",
              "      <td>7.51</td>\n",
              "    </tr>\n",
              "  </tbody>\n",
              "</table>\n",
              "<p>16743 rows × 13 columns</p>\n",
              "</div>"
            ],
            "text/plain": [
              "              Data.Precipitation   Date.Full  Date.Month  Date.Year  \\\n",
              "Date.Week of                                                          \n",
              "3                           0.00  2016-01-03           1       2016   \n",
              "3                           0.00  2016-01-03           1       2016   \n",
              "3                           0.16  2016-01-03           1       2016   \n",
              "3                           0.00  2016-01-03           1       2016   \n",
              "3                           0.01  2016-01-03           1       2016   \n",
              "...                          ...         ...         ...        ...   \n",
              "1                           0.08  2017-01-01           1       2017   \n",
              "1                           0.00  2017-01-01           1       2017   \n",
              "1                           0.00  2017-01-01           1       2017   \n",
              "1                           0.06  2017-01-01           1       2017   \n",
              "1                           0.10  2017-01-01           1       2017   \n",
              "\n",
              "             Station.City Station.Code Station.Location Station.State  \\\n",
              "Date.Week of                                                            \n",
              "3              Birmingham          BHM   Birmingham, AL       Alabama   \n",
              "3              Huntsville          HSV   Huntsville, AL       Alabama   \n",
              "3                  Mobile          MOB       Mobile, AL       Alabama   \n",
              "3              Montgomery          MGM   Montgomery, AL       Alabama   \n",
              "3               Anchorage          ANC    Anchorage, AK        Alaska   \n",
              "...                   ...          ...              ...           ...   \n",
              "1                  Casper          CPR       Casper, WY       Wyoming   \n",
              "1                Cheyenne          CYS     Cheyenne, WY       Wyoming   \n",
              "1                  Lander          LND       Lander, WY       Wyoming   \n",
              "1                 Rawlins          RWL      Rawlins, WY       Wyoming   \n",
              "1                Sheridan          SHR     Sheridan, WY       Wyoming   \n",
              "\n",
              "              Data.Temperature.Avg Temp  Data.Temperature.Max Temp  \\\n",
              "Date.Week of                                                         \n",
              "3                                    39                         46   \n",
              "3                                    39                         47   \n",
              "3                                    46                         51   \n",
              "3                                    45                         52   \n",
              "3                                    34                         38   \n",
              "...                                 ...                        ...   \n",
              "1                                    23                         32   \n",
              "1                                    32                         42   \n",
              "1                                    17                         29   \n",
              "1                                    23                         31   \n",
              "1                                    21                         34   \n",
              "\n",
              "              Data.Temperature.Min Temp  Data.Wind.Direction  Data.Wind.Speed  \n",
              "Date.Week of                                                                   \n",
              "3                                    32                   33             4.33  \n",
              "3                                    31                   32             3.86  \n",
              "3                                    41                   35             9.73  \n",
              "3                                    38                   32             6.86  \n",
              "3                                    29                   19             7.80  \n",
              "...                                 ...                  ...              ...  \n",
              "1                                    15                   23            19.98  \n",
              "1                                    21                   26            15.16  \n",
              "1                                     4                   26             1.65  \n",
              "1                                    13                   24            18.16  \n",
              "1                                     8                   23             7.51  \n",
              "\n",
              "[16743 rows x 13 columns]"
            ]
          },
          "execution_count": 41,
          "metadata": {},
          "output_type": "execute_result"
        }
      ],
      "source": [
        "csvdata1 = pd.read_csv(\"weather.csv\", index_col=3)\n",
        "csvdata1"
      ]
    },
    {
      "cell_type": "code",
      "execution_count": 42,
      "metadata": {},
      "outputs": [
        {
          "data": {
            "text/html": [
              "<div>\n",
              "<style scoped>\n",
              "    .dataframe tbody tr th:only-of-type {\n",
              "        vertical-align: middle;\n",
              "    }\n",
              "\n",
              "    .dataframe tbody tr th {\n",
              "        vertical-align: top;\n",
              "    }\n",
              "\n",
              "    .dataframe thead th {\n",
              "        text-align: right;\n",
              "    }\n",
              "</style>\n",
              "<table border=\"1\" class=\"dataframe\">\n",
              "  <thead>\n",
              "    <tr style=\"text-align: right;\">\n",
              "      <th></th>\n",
              "      <th>Data.Precipitation</th>\n",
              "      <th>Date.Full</th>\n",
              "      <th>Date.Month</th>\n",
              "      <th>Date.Year</th>\n",
              "      <th>Station.City</th>\n",
              "      <th>Station.Code</th>\n",
              "      <th>Station.Location</th>\n",
              "      <th>Station.State</th>\n",
              "      <th>Data.Temperature.Avg Temp</th>\n",
              "      <th>Data.Temperature.Max Temp</th>\n",
              "      <th>Data.Temperature.Min Temp</th>\n",
              "      <th>Data.Wind.Direction</th>\n",
              "      <th>Data.Wind.Speed</th>\n",
              "    </tr>\n",
              "    <tr>\n",
              "      <th>Date.Week of</th>\n",
              "      <th></th>\n",
              "      <th></th>\n",
              "      <th></th>\n",
              "      <th></th>\n",
              "      <th></th>\n",
              "      <th></th>\n",
              "      <th></th>\n",
              "      <th></th>\n",
              "      <th></th>\n",
              "      <th></th>\n",
              "      <th></th>\n",
              "      <th></th>\n",
              "      <th></th>\n",
              "    </tr>\n",
              "  </thead>\n",
              "  <tbody>\n",
              "    <tr>\n",
              "      <th>3</th>\n",
              "      <td>0.00</td>\n",
              "      <td>2016-01-03</td>\n",
              "      <td>1</td>\n",
              "      <td>2016</td>\n",
              "      <td>Birmingham</td>\n",
              "      <td>BHM</td>\n",
              "      <td>Birmingham, AL</td>\n",
              "      <td>Alabama</td>\n",
              "      <td>39</td>\n",
              "      <td>46</td>\n",
              "      <td>32</td>\n",
              "      <td>33</td>\n",
              "      <td>4.33</td>\n",
              "    </tr>\n",
              "    <tr>\n",
              "      <th>3</th>\n",
              "      <td>0.00</td>\n",
              "      <td>2016-01-03</td>\n",
              "      <td>1</td>\n",
              "      <td>2016</td>\n",
              "      <td>Huntsville</td>\n",
              "      <td>HSV</td>\n",
              "      <td>Huntsville, AL</td>\n",
              "      <td>Alabama</td>\n",
              "      <td>39</td>\n",
              "      <td>47</td>\n",
              "      <td>31</td>\n",
              "      <td>32</td>\n",
              "      <td>3.86</td>\n",
              "    </tr>\n",
              "    <tr>\n",
              "      <th>3</th>\n",
              "      <td>0.16</td>\n",
              "      <td>2016-01-03</td>\n",
              "      <td>1</td>\n",
              "      <td>2016</td>\n",
              "      <td>Mobile</td>\n",
              "      <td>MOB</td>\n",
              "      <td>Mobile, AL</td>\n",
              "      <td>Alabama</td>\n",
              "      <td>46</td>\n",
              "      <td>51</td>\n",
              "      <td>41</td>\n",
              "      <td>35</td>\n",
              "      <td>9.73</td>\n",
              "    </tr>\n",
              "    <tr>\n",
              "      <th>3</th>\n",
              "      <td>0.00</td>\n",
              "      <td>2016-01-03</td>\n",
              "      <td>1</td>\n",
              "      <td>2016</td>\n",
              "      <td>Montgomery</td>\n",
              "      <td>MGM</td>\n",
              "      <td>Montgomery, AL</td>\n",
              "      <td>Alabama</td>\n",
              "      <td>45</td>\n",
              "      <td>52</td>\n",
              "      <td>38</td>\n",
              "      <td>32</td>\n",
              "      <td>6.86</td>\n",
              "    </tr>\n",
              "    <tr>\n",
              "      <th>3</th>\n",
              "      <td>0.01</td>\n",
              "      <td>2016-01-03</td>\n",
              "      <td>1</td>\n",
              "      <td>2016</td>\n",
              "      <td>Anchorage</td>\n",
              "      <td>ANC</td>\n",
              "      <td>Anchorage, AK</td>\n",
              "      <td>Alaska</td>\n",
              "      <td>34</td>\n",
              "      <td>38</td>\n",
              "      <td>29</td>\n",
              "      <td>19</td>\n",
              "      <td>7.80</td>\n",
              "    </tr>\n",
              "  </tbody>\n",
              "</table>\n",
              "</div>"
            ],
            "text/plain": [
              "              Data.Precipitation   Date.Full  Date.Month  Date.Year  \\\n",
              "Date.Week of                                                          \n",
              "3                           0.00  2016-01-03           1       2016   \n",
              "3                           0.00  2016-01-03           1       2016   \n",
              "3                           0.16  2016-01-03           1       2016   \n",
              "3                           0.00  2016-01-03           1       2016   \n",
              "3                           0.01  2016-01-03           1       2016   \n",
              "\n",
              "             Station.City Station.Code Station.Location Station.State  \\\n",
              "Date.Week of                                                            \n",
              "3              Birmingham          BHM   Birmingham, AL       Alabama   \n",
              "3              Huntsville          HSV   Huntsville, AL       Alabama   \n",
              "3                  Mobile          MOB       Mobile, AL       Alabama   \n",
              "3              Montgomery          MGM   Montgomery, AL       Alabama   \n",
              "3               Anchorage          ANC    Anchorage, AK        Alaska   \n",
              "\n",
              "              Data.Temperature.Avg Temp  Data.Temperature.Max Temp  \\\n",
              "Date.Week of                                                         \n",
              "3                                    39                         46   \n",
              "3                                    39                         47   \n",
              "3                                    46                         51   \n",
              "3                                    45                         52   \n",
              "3                                    34                         38   \n",
              "\n",
              "              Data.Temperature.Min Temp  Data.Wind.Direction  Data.Wind.Speed  \n",
              "Date.Week of                                                                   \n",
              "3                                    32                   33             4.33  \n",
              "3                                    31                   32             3.86  \n",
              "3                                    41                   35             9.73  \n",
              "3                                    38                   32             6.86  \n",
              "3                                    29                   19             7.80  "
            ]
          },
          "execution_count": 42,
          "metadata": {},
          "output_type": "execute_result"
        }
      ],
      "source": [
        "csvdata1.head()"
      ]
    },
    {
      "cell_type": "code",
      "execution_count": 43,
      "metadata": {},
      "outputs": [
        {
          "data": {
            "text/html": [
              "<div>\n",
              "<style scoped>\n",
              "    .dataframe tbody tr th:only-of-type {\n",
              "        vertical-align: middle;\n",
              "    }\n",
              "\n",
              "    .dataframe tbody tr th {\n",
              "        vertical-align: top;\n",
              "    }\n",
              "\n",
              "    .dataframe thead th {\n",
              "        text-align: right;\n",
              "    }\n",
              "</style>\n",
              "<table border=\"1\" class=\"dataframe\">\n",
              "  <thead>\n",
              "    <tr style=\"text-align: right;\">\n",
              "      <th></th>\n",
              "      <th>Data.Precipitation</th>\n",
              "      <th>Date.Full</th>\n",
              "      <th>Date.Month</th>\n",
              "      <th>Date.Year</th>\n",
              "      <th>Station.City</th>\n",
              "      <th>Station.Code</th>\n",
              "      <th>Station.Location</th>\n",
              "      <th>Station.State</th>\n",
              "      <th>Data.Temperature.Avg Temp</th>\n",
              "      <th>Data.Temperature.Max Temp</th>\n",
              "      <th>Data.Temperature.Min Temp</th>\n",
              "      <th>Data.Wind.Direction</th>\n",
              "      <th>Data.Wind.Speed</th>\n",
              "    </tr>\n",
              "    <tr>\n",
              "      <th>Date.Week of</th>\n",
              "      <th></th>\n",
              "      <th></th>\n",
              "      <th></th>\n",
              "      <th></th>\n",
              "      <th></th>\n",
              "      <th></th>\n",
              "      <th></th>\n",
              "      <th></th>\n",
              "      <th></th>\n",
              "      <th></th>\n",
              "      <th></th>\n",
              "      <th></th>\n",
              "      <th></th>\n",
              "    </tr>\n",
              "  </thead>\n",
              "  <tbody>\n",
              "    <tr>\n",
              "      <th>3</th>\n",
              "      <td>0.00</td>\n",
              "      <td>2016-01-03</td>\n",
              "      <td>1</td>\n",
              "      <td>2016</td>\n",
              "      <td>Birmingham</td>\n",
              "      <td>BHM</td>\n",
              "      <td>Birmingham, AL</td>\n",
              "      <td>Alabama</td>\n",
              "      <td>39</td>\n",
              "      <td>46</td>\n",
              "      <td>32</td>\n",
              "      <td>33</td>\n",
              "      <td>4.33</td>\n",
              "    </tr>\n",
              "    <tr>\n",
              "      <th>3</th>\n",
              "      <td>0.00</td>\n",
              "      <td>2016-01-03</td>\n",
              "      <td>1</td>\n",
              "      <td>2016</td>\n",
              "      <td>Huntsville</td>\n",
              "      <td>HSV</td>\n",
              "      <td>Huntsville, AL</td>\n",
              "      <td>Alabama</td>\n",
              "      <td>39</td>\n",
              "      <td>47</td>\n",
              "      <td>31</td>\n",
              "      <td>32</td>\n",
              "      <td>3.86</td>\n",
              "    </tr>\n",
              "    <tr>\n",
              "      <th>3</th>\n",
              "      <td>0.16</td>\n",
              "      <td>2016-01-03</td>\n",
              "      <td>1</td>\n",
              "      <td>2016</td>\n",
              "      <td>Mobile</td>\n",
              "      <td>MOB</td>\n",
              "      <td>Mobile, AL</td>\n",
              "      <td>Alabama</td>\n",
              "      <td>46</td>\n",
              "      <td>51</td>\n",
              "      <td>41</td>\n",
              "      <td>35</td>\n",
              "      <td>9.73</td>\n",
              "    </tr>\n",
              "    <tr>\n",
              "      <th>3</th>\n",
              "      <td>0.00</td>\n",
              "      <td>2016-01-03</td>\n",
              "      <td>1</td>\n",
              "      <td>2016</td>\n",
              "      <td>Montgomery</td>\n",
              "      <td>MGM</td>\n",
              "      <td>Montgomery, AL</td>\n",
              "      <td>Alabama</td>\n",
              "      <td>45</td>\n",
              "      <td>52</td>\n",
              "      <td>38</td>\n",
              "      <td>32</td>\n",
              "      <td>6.86</td>\n",
              "    </tr>\n",
              "    <tr>\n",
              "      <th>3</th>\n",
              "      <td>0.01</td>\n",
              "      <td>2016-01-03</td>\n",
              "      <td>1</td>\n",
              "      <td>2016</td>\n",
              "      <td>Anchorage</td>\n",
              "      <td>ANC</td>\n",
              "      <td>Anchorage, AK</td>\n",
              "      <td>Alaska</td>\n",
              "      <td>34</td>\n",
              "      <td>38</td>\n",
              "      <td>29</td>\n",
              "      <td>19</td>\n",
              "      <td>7.80</td>\n",
              "    </tr>\n",
              "    <tr>\n",
              "      <th>3</th>\n",
              "      <td>0.09</td>\n",
              "      <td>2016-01-03</td>\n",
              "      <td>1</td>\n",
              "      <td>2016</td>\n",
              "      <td>Annette</td>\n",
              "      <td>ANN</td>\n",
              "      <td>Annette, AK</td>\n",
              "      <td>Alaska</td>\n",
              "      <td>38</td>\n",
              "      <td>44</td>\n",
              "      <td>31</td>\n",
              "      <td>9</td>\n",
              "      <td>8.70</td>\n",
              "    </tr>\n",
              "    <tr>\n",
              "      <th>3</th>\n",
              "      <td>0.05</td>\n",
              "      <td>2016-01-03</td>\n",
              "      <td>1</td>\n",
              "      <td>2016</td>\n",
              "      <td>Bethel</td>\n",
              "      <td>BET</td>\n",
              "      <td>Bethel, AK</td>\n",
              "      <td>Alaska</td>\n",
              "      <td>30</td>\n",
              "      <td>36</td>\n",
              "      <td>24</td>\n",
              "      <td>9</td>\n",
              "      <td>16.46</td>\n",
              "    </tr>\n",
              "    <tr>\n",
              "      <th>3</th>\n",
              "      <td>0.15</td>\n",
              "      <td>2016-01-03</td>\n",
              "      <td>1</td>\n",
              "      <td>2016</td>\n",
              "      <td>Bettles</td>\n",
              "      <td>BTT</td>\n",
              "      <td>Bettles, AK</td>\n",
              "      <td>Alaska</td>\n",
              "      <td>22</td>\n",
              "      <td>32</td>\n",
              "      <td>9</td>\n",
              "      <td>2</td>\n",
              "      <td>3.10</td>\n",
              "    </tr>\n",
              "    <tr>\n",
              "      <th>3</th>\n",
              "      <td>0.60</td>\n",
              "      <td>2016-01-03</td>\n",
              "      <td>1</td>\n",
              "      <td>2016</td>\n",
              "      <td>Cold Bay</td>\n",
              "      <td>CDB</td>\n",
              "      <td>Cold Bay, AK</td>\n",
              "      <td>Alaska</td>\n",
              "      <td>34</td>\n",
              "      <td>36</td>\n",
              "      <td>31</td>\n",
              "      <td>20</td>\n",
              "      <td>9.10</td>\n",
              "    </tr>\n",
              "    <tr>\n",
              "      <th>3</th>\n",
              "      <td>2.15</td>\n",
              "      <td>2016-01-03</td>\n",
              "      <td>1</td>\n",
              "      <td>2016</td>\n",
              "      <td>Cordova</td>\n",
              "      <td>CDV</td>\n",
              "      <td>Cordova, AK</td>\n",
              "      <td>Alaska</td>\n",
              "      <td>38</td>\n",
              "      <td>43</td>\n",
              "      <td>33</td>\n",
              "      <td>9</td>\n",
              "      <td>9.76</td>\n",
              "    </tr>\n",
              "  </tbody>\n",
              "</table>\n",
              "</div>"
            ],
            "text/plain": [
              "              Data.Precipitation   Date.Full  Date.Month  Date.Year  \\\n",
              "Date.Week of                                                          \n",
              "3                           0.00  2016-01-03           1       2016   \n",
              "3                           0.00  2016-01-03           1       2016   \n",
              "3                           0.16  2016-01-03           1       2016   \n",
              "3                           0.00  2016-01-03           1       2016   \n",
              "3                           0.01  2016-01-03           1       2016   \n",
              "3                           0.09  2016-01-03           1       2016   \n",
              "3                           0.05  2016-01-03           1       2016   \n",
              "3                           0.15  2016-01-03           1       2016   \n",
              "3                           0.60  2016-01-03           1       2016   \n",
              "3                           2.15  2016-01-03           1       2016   \n",
              "\n",
              "             Station.City Station.Code Station.Location Station.State  \\\n",
              "Date.Week of                                                            \n",
              "3              Birmingham          BHM   Birmingham, AL       Alabama   \n",
              "3              Huntsville          HSV   Huntsville, AL       Alabama   \n",
              "3                  Mobile          MOB       Mobile, AL       Alabama   \n",
              "3              Montgomery          MGM   Montgomery, AL       Alabama   \n",
              "3               Anchorage          ANC    Anchorage, AK        Alaska   \n",
              "3                 Annette          ANN      Annette, AK        Alaska   \n",
              "3                  Bethel          BET       Bethel, AK        Alaska   \n",
              "3                 Bettles          BTT      Bettles, AK        Alaska   \n",
              "3                Cold Bay          CDB     Cold Bay, AK        Alaska   \n",
              "3                 Cordova          CDV      Cordova, AK        Alaska   \n",
              "\n",
              "              Data.Temperature.Avg Temp  Data.Temperature.Max Temp  \\\n",
              "Date.Week of                                                         \n",
              "3                                    39                         46   \n",
              "3                                    39                         47   \n",
              "3                                    46                         51   \n",
              "3                                    45                         52   \n",
              "3                                    34                         38   \n",
              "3                                    38                         44   \n",
              "3                                    30                         36   \n",
              "3                                    22                         32   \n",
              "3                                    34                         36   \n",
              "3                                    38                         43   \n",
              "\n",
              "              Data.Temperature.Min Temp  Data.Wind.Direction  Data.Wind.Speed  \n",
              "Date.Week of                                                                   \n",
              "3                                    32                   33             4.33  \n",
              "3                                    31                   32             3.86  \n",
              "3                                    41                   35             9.73  \n",
              "3                                    38                   32             6.86  \n",
              "3                                    29                   19             7.80  \n",
              "3                                    31                    9             8.70  \n",
              "3                                    24                    9            16.46  \n",
              "3                                     9                    2             3.10  \n",
              "3                                    31                   20             9.10  \n",
              "3                                    33                    9             9.76  "
            ]
          },
          "execution_count": 43,
          "metadata": {},
          "output_type": "execute_result"
        }
      ],
      "source": [
        "csvdata1.head(10)"
      ]
    },
    {
      "cell_type": "code",
      "execution_count": 44,
      "metadata": {},
      "outputs": [
        {
          "data": {
            "text/html": [
              "<div>\n",
              "<style scoped>\n",
              "    .dataframe tbody tr th:only-of-type {\n",
              "        vertical-align: middle;\n",
              "    }\n",
              "\n",
              "    .dataframe tbody tr th {\n",
              "        vertical-align: top;\n",
              "    }\n",
              "\n",
              "    .dataframe thead th {\n",
              "        text-align: right;\n",
              "    }\n",
              "</style>\n",
              "<table border=\"1\" class=\"dataframe\">\n",
              "  <thead>\n",
              "    <tr style=\"text-align: right;\">\n",
              "      <th></th>\n",
              "      <th>Data.Precipitation</th>\n",
              "      <th>Date.Month</th>\n",
              "      <th>Date.Year</th>\n",
              "      <th>Data.Temperature.Avg Temp</th>\n",
              "      <th>Data.Temperature.Max Temp</th>\n",
              "      <th>Data.Temperature.Min Temp</th>\n",
              "      <th>Data.Wind.Direction</th>\n",
              "      <th>Data.Wind.Speed</th>\n",
              "    </tr>\n",
              "  </thead>\n",
              "  <tbody>\n",
              "    <tr>\n",
              "      <th>count</th>\n",
              "      <td>16743.000000</td>\n",
              "      <td>16743.000000</td>\n",
              "      <td>16743.000000</td>\n",
              "      <td>16743.000000</td>\n",
              "      <td>16743.000000</td>\n",
              "      <td>16743.000000</td>\n",
              "      <td>16743.000000</td>\n",
              "      <td>16743.000000</td>\n",
              "    </tr>\n",
              "    <tr>\n",
              "      <th>mean</th>\n",
              "      <td>0.579090</td>\n",
              "      <td>6.343128</td>\n",
              "      <td>2016.018933</td>\n",
              "      <td>56.089112</td>\n",
              "      <td>66.042406</td>\n",
              "      <td>45.642716</td>\n",
              "      <td>18.791316</td>\n",
              "      <td>6.329820</td>\n",
              "    </tr>\n",
              "    <tr>\n",
              "      <th>std</th>\n",
              "      <td>0.988057</td>\n",
              "      <td>3.490723</td>\n",
              "      <td>0.136294</td>\n",
              "      <td>18.798295</td>\n",
              "      <td>19.787954</td>\n",
              "      <td>18.559263</td>\n",
              "      <td>6.461527</td>\n",
              "      <td>3.494785</td>\n",
              "    </tr>\n",
              "    <tr>\n",
              "      <th>min</th>\n",
              "      <td>0.000000</td>\n",
              "      <td>1.000000</td>\n",
              "      <td>2016.000000</td>\n",
              "      <td>-27.000000</td>\n",
              "      <td>-19.000000</td>\n",
              "      <td>-35.000000</td>\n",
              "      <td>0.000000</td>\n",
              "      <td>0.000000</td>\n",
              "    </tr>\n",
              "    <tr>\n",
              "      <th>25%</th>\n",
              "      <td>0.000000</td>\n",
              "      <td>3.000000</td>\n",
              "      <td>2016.000000</td>\n",
              "      <td>44.000000</td>\n",
              "      <td>53.000000</td>\n",
              "      <td>33.000000</td>\n",
              "      <td>15.000000</td>\n",
              "      <td>4.040000</td>\n",
              "    </tr>\n",
              "    <tr>\n",
              "      <th>50%</th>\n",
              "      <td>0.190000</td>\n",
              "      <td>6.000000</td>\n",
              "      <td>2016.000000</td>\n",
              "      <td>58.000000</td>\n",
              "      <td>68.000000</td>\n",
              "      <td>47.000000</td>\n",
              "      <td>19.000000</td>\n",
              "      <td>5.940000</td>\n",
              "    </tr>\n",
              "    <tr>\n",
              "      <th>75%</th>\n",
              "      <td>0.750000</td>\n",
              "      <td>9.000000</td>\n",
              "      <td>2016.000000</td>\n",
              "      <td>71.000000</td>\n",
              "      <td>82.000000</td>\n",
              "      <td>60.000000</td>\n",
              "      <td>23.000000</td>\n",
              "      <td>8.080000</td>\n",
              "    </tr>\n",
              "    <tr>\n",
              "      <th>max</th>\n",
              "      <td>20.890000</td>\n",
              "      <td>12.000000</td>\n",
              "      <td>2017.000000</td>\n",
              "      <td>100.000000</td>\n",
              "      <td>111.000000</td>\n",
              "      <td>88.000000</td>\n",
              "      <td>36.000000</td>\n",
              "      <td>61.100000</td>\n",
              "    </tr>\n",
              "  </tbody>\n",
              "</table>\n",
              "</div>"
            ],
            "text/plain": [
              "       Data.Precipitation    Date.Month     Date.Year  \\\n",
              "count        16743.000000  16743.000000  16743.000000   \n",
              "mean             0.579090      6.343128   2016.018933   \n",
              "std              0.988057      3.490723      0.136294   \n",
              "min              0.000000      1.000000   2016.000000   \n",
              "25%              0.000000      3.000000   2016.000000   \n",
              "50%              0.190000      6.000000   2016.000000   \n",
              "75%              0.750000      9.000000   2016.000000   \n",
              "max             20.890000     12.000000   2017.000000   \n",
              "\n",
              "       Data.Temperature.Avg Temp  Data.Temperature.Max Temp  \\\n",
              "count               16743.000000               16743.000000   \n",
              "mean                   56.089112                  66.042406   \n",
              "std                    18.798295                  19.787954   \n",
              "min                   -27.000000                 -19.000000   \n",
              "25%                    44.000000                  53.000000   \n",
              "50%                    58.000000                  68.000000   \n",
              "75%                    71.000000                  82.000000   \n",
              "max                   100.000000                 111.000000   \n",
              "\n",
              "       Data.Temperature.Min Temp  Data.Wind.Direction  Data.Wind.Speed  \n",
              "count               16743.000000         16743.000000     16743.000000  \n",
              "mean                   45.642716            18.791316         6.329820  \n",
              "std                    18.559263             6.461527         3.494785  \n",
              "min                   -35.000000             0.000000         0.000000  \n",
              "25%                    33.000000            15.000000         4.040000  \n",
              "50%                    47.000000            19.000000         5.940000  \n",
              "75%                    60.000000            23.000000         8.080000  \n",
              "max                    88.000000            36.000000        61.100000  "
            ]
          },
          "execution_count": 44,
          "metadata": {},
          "output_type": "execute_result"
        }
      ],
      "source": [
        "csvdata1.describe()"
      ]
    },
    {
      "attachments": {},
      "cell_type": "markdown",
      "metadata": {},
      "source": [
        "### Series"
      ]
    },
    {
      "cell_type": "code",
      "execution_count": 45,
      "metadata": {},
      "outputs": [
        {
          "name": "stdout",
          "output_type": "stream",
          "text": [
            "<class 'list'>\n",
            "<class 'pandas.core.series.Series'>\n",
            "0    12\n",
            "1     8\n",
            "2    15\n",
            "dtype: int64\n"
          ]
        }
      ],
      "source": [
        "y = [12,8,15]\n",
        "s1 = pd.Series(y)\n",
        "print(type(y))\n",
        "print(type(s1))\n",
        "print(s1)"
      ]
    },
    {
      "attachments": {},
      "cell_type": "markdown",
      "metadata": {},
      "source": [
        "## Matplotlib - Data Visualization\n",
        "\n"
      ]
    },
    {
      "attachments": {},
      "cell_type": "markdown",
      "metadata": {},
      "source": [
        "### Various graphs used to identify:\n",
        "For comparing data       : Bar plot, Line plot, Pie plot\n",
        "\n",
        "For distribution of data : Scatter plot, Box plot, Violin plot\n",
        "\n",
        "For continuous data      : Box plot, Histogram, Area plot"
      ]
    },
    {
      "attachments": {},
      "cell_type": "markdown",
      "metadata": {},
      "source": [
        "## Line plot \n"
      ]
    },
    {
      "cell_type": "code",
      "execution_count": 46,
      "metadata": {},
      "outputs": [
        {
          "name": "stdout",
          "output_type": "stream",
          "text": [
            "[45, 56, 34, 67, 12, 97]\n"
          ]
        },
        {
          "data": {
            "image/png": "[encoded data removed]",
            "text/plain": [
              "<Figure size 500x500 with 1 Axes>"
            ]
          },
          "metadata": {},
          "output_type": "display_data"
        }
      ],
      "source": [
        "import matplotlib.pyplot as plt\n",
        "gdata = [45,56,34,67,12,97]\n",
        "print(gdata)\n",
        "fig = plt.figure(figsize = (5,5))\n",
        "plt.plot(gdata)\n",
        "plt.show()"
      ]
    },
    {
      "cell_type": "markdown",
      "metadata": {},
      "source": [
        "Here both lines are on one by one"
      ]
    },
    {
      "cell_type": "code",
      "execution_count": 47,
      "metadata": {},
      "outputs": [
        {
          "data": {
            "image/png": "[encoded data removed]",
            "text/plain": [
              "<Figure size 640x480 with 1 Axes>"
            ]
          },
          "metadata": {},
          "output_type": "display_data"
        }
      ],
      "source": [
        "plt.xlabel('X data')\n",
        "plt.ylabel('Y data')\n",
        "plt.title(\"Random data\")\n",
        "plt.plot(gdata, color= \"g\")\n",
        "\n",
        "\n",
        "plt.show()"
      ]
    },
    {
      "cell_type": "code",
      "execution_count": 48,
      "metadata": {},
      "outputs": [
        {
          "data": {
            "image/png": "[encoded data removed]",
            "text/plain": [
              "<Figure size 640x480 with 1 Axes>"
            ]
          },
          "metadata": {},
          "output_type": "display_data"
        }
      ],
      "source": [
        "data1 = [23,43,21,18,55]\n",
        "data2 = [89,5,26,88,12]\n",
        "\n",
        "s1 = plt.subplot()\n",
        "s1.plot(data1)\n",
        "s1.plot(data2)\n",
        "plt.show()"
      ]
    },
    {
      "attachments": {},
      "cell_type": "markdown",
      "metadata": {},
      "source": [
        "### To save the graph:\n",
        "Syntax: plt.savefig(\"filename.extension\") \n",
        "### To adjust the placements of sub plots/graphs\n",
        "Syntax: plt.subplot(row_column_index)"
      ]
    },
    {
      "cell_type": "code",
      "execution_count": 49,
      "metadata": {},
      "outputs": [
        {
          "data": {
            "image/png": "[encoded data removed]",
            "text/plain": [
              "<Figure size 700x700 with 2 Axes>"
            ]
          },
          "metadata": {},
          "output_type": "display_data"
        }
      ],
      "source": [
        "roll_a =[1,2,3,4,5]\n",
        "marks_a =[12,16,19,14,11]\n",
        "\n",
        "roll_b =[1,2,3,4,5]\n",
        "marks_b =[19,17,14,20,13]\n",
        "fig= plt.figure(figsize=(7,7))\n",
        "\n",
        "sub1 = plt.subplot(211)\n",
        "sub2 = plt.subplot(212)\n",
        "\n",
        "sub1.plot(roll_a, marks_a, ls = ':', marker='o',color='g')\n",
        "sub2.plot(roll_b, marks_b, ls = '-.', marker='8',color='r')\n",
        "plt.xlabel('roll number')\n",
        "plt.ylabel(\"marks\")\n",
        "sub1.set(title=\"A Section\")\n",
        "sub2.set(title=\"B Section\")\n",
        "plt.savefig(\"Fig_cmpare.png\")"
      ]
    },
    {
      "cell_type": "code",
      "execution_count": 50,
      "metadata": {},
      "outputs": [
        {
          "data": {
            "image/png": "[encoded data removed]",
            "text/plain": [
              "<Figure size 3000x2000 with 4 Axes>"
            ]
          },
          "metadata": {},
          "output_type": "display_data"
        }
      ],
      "source": [
        "roll_a =[1,2,3,4,5]\n",
        "marks_a =[12,16,19,14,11]\n",
        "\n",
        "roll_b =[1,2,3,4,5]\n",
        "marks_b =[19,17,14,20,13]\n",
        "\n",
        "roll_c =[1,2,3,4,5]\n",
        "marks_c =[13,18,16,6,4]\n",
        "\n",
        "roll_d =[1,2,3,4,5]\n",
        "marks_d =[19,14,17,12,10]\n",
        "fig = plt.figure(figsize=(30,20))\n",
        "sub1 = plt.subplot(251)\n",
        "sub2 = plt.subplot(252)\n",
        "sub3 = plt.subplot(253)\n",
        "sub4 = plt.subplot(254)\n",
        "\n",
        "sub1.plot(roll_a, marks_a, ls = ':', marker='o',color='g')\n",
        "sub2.plot(roll_b, marks_b, ls = '-.', marker='8',color='y')\n",
        "sub3.plot(roll_c, marks_c, ls = '--', marker='p',color='k')\n",
        "sub4.plot(roll_d, marks_d, ls = '-.', marker='^',color='b')\n",
        "plt.xlabel('roll number')\n",
        "plt.ylabel(\"marks\")\n",
        "sub1.set(title=\"A Section\")\n",
        "sub2.set(title=\"B Section\")\n",
        "sub3.set(title=\"C Section\")\n",
        "sub4.set(title=\"D Section\")\n",
        "plt.savefig(\"graph_item.pdf\")\n",
        "plt.show()\n"
      ]
    },
    {
      "attachments": {},
      "cell_type": "markdown",
      "metadata": {},
      "source": [
        "## Histogram\n",
        "\n",
        "It is used to represent frequency distribution with continuous classes"
      ]
    },
    {
      "cell_type": "code",
      "execution_count": 52,
      "metadata": {},
      "outputs": [
        {
          "data": {
            "image/png": "[encoded data removed]",
            "text/plain": [
              "<Figure size 500x700 with 1 Axes>"
            ]
          },
          "metadata": {},
          "output_type": "display_data"
        }
      ],
      "source": [
        "age = [34,33,12,36,36,38,30,12,13,14,11,23,54,89,23,45,68,90]\n",
        "\n",
        "fig = plt.figure(figsize=(5,7))\n",
        "plt.hist(age, bins =[5,15,30], color='m', edgecolor='r')\n",
        "plt.show()\n",
        "\n"
      ]
    },
    {
      "cell_type": "code",
      "execution_count": 54,
      "metadata": {},
      "outputs": [
        {
          "data": {
            "image/png": "[encoded data removed]",
            "text/plain": [
              "<Figure size 500x900 with 2 Axes>"
            ]
          },
          "metadata": {},
          "output_type": "display_data"
        }
      ],
      "source": [
        "height = [238,353,421,232,222,234,556,667,676,223,321,343,262]\n",
        "fig =plt.figure(figsize=(5,9))\n",
        "s1=plt.subplot(211)\n",
        "s2=plt.subplot(212)\n",
        "s1.set(title=\"Age Distribution\")\n",
        "s2.set(title=\"Height Distribution\")\n",
        "s1.hist(age, bins=10, color='g',edgecolor=\"b\")\n",
        "s2.hist(height, bins=13, color='y',edgecolor=\"k\")\n",
        "plt.show()"
      ]
    }
  ],
  "metadata": {
    "colab": {
      "provenance": []
    },
    "kernelspec": {
      "display_name": "Python 3",
      "language": "python",
      "name": "python3"
    },
    "language_info": {
      "codemirror_mode": {
        "name": "ipython",
        "version": 3
      },
      "file_extension": ".py",
      "mimetype": "text/x-python",
      "name": "python",
      "nbconvert_exporter": "python",
      "pygments_lexer": "ipython3",
      "version": "3.11.0"
    },
    "vscode": {
      "interpreter": {
        "hash": "e8b60e3bd47c5b1da39fcb4b6e7cc214ddff6c0b7d989b968029d70a3d401f24"
      }
    }
  },
  "nbformat": 4,
  "nbformat_minor": 0
}
