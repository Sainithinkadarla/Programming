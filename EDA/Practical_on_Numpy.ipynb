{
  "cells": [
    {
      "attachments": {},
      "cell_type": "markdown",
      "metadata": {
        "id": "pT5sPIXySGpi"
      },
      "source": [
        "# Numpy Basics"
      ]
    },
    {
      "cell_type": "markdown",
      "metadata": {
        "id": "eHnMalVdRlbC"
      },
      "source": [
        "**Defining a list and converting the list into an array using Numpy**"
      ]
    },
    {
      "cell_type": "code",
      "execution_count": 2,
      "metadata": {
        "colab": {
          "base_uri": "https://localhost:8080/"
        },
        "id": "UIP7jKwNPTd0",
        "outputId": "d2f58f52-ecc9-40a8-fb1c-c07a4790da70"
      },
      "outputs": [
        {
          "name": "stdout",
          "output_type": "stream",
          "text": [
            "[1 2 3 4 5]\n"
          ]
        }
      ],
      "source": [
        "import numpy as np \n",
        "mylist = [1,2,3,4,5]\n",
        "myarray = np.array(mylist)\n",
        "print(myarray)"
      ]
    },
    {
      "cell_type": "markdown",
      "metadata": {},
      "source": []
    },
    {
      "cell_type": "markdown",
      "metadata": {
        "id": "ozQQvZdMTua2"
      },
      "source": [
        "**Defining a two dimensional list and converting the list into array**"
      ]
    },
    {
      "cell_type": "code",
      "execution_count": 3,
      "metadata": {
        "colab": {
          "base_uri": "https://localhost:8080/"
        },
        "id": "iWz1OeenP6Um",
        "outputId": "f1970ead-d091-40ae-a27e-09577e2edf25"
      },
      "outputs": [
        {
          "name": "stdout",
          "output_type": "stream",
          "text": [
            "[[ 1  2  3  4  5]\n",
            " [ 2  4  6  8 10]\n",
            " [ 1  4  9 16 25]]\n"
          ]
        }
      ],
      "source": [
        "my2dlist = [[1,2,3,4,5], [2,4,6,8,10], [1,4,9,16,25]]\n",
        "my2darray = np.array(my2dlist)\n",
        "print(my2darray)\n",
        "\n"
      ]
    },
    {
      "cell_type": "markdown",
      "metadata": {
        "id": "jVq6zUBxUG5e"
      },
      "source": [
        "**Defining a three dimensional list and converting the list into array**"
      ]
    },
    {
      "cell_type": "code",
      "execution_count": 4,
      "metadata": {
        "colab": {
          "base_uri": "https://localhost:8080/"
        },
        "id": "1hJp5EkMTpuz",
        "outputId": "02087ac0-12ee-4696-e543-4a2740bd3f98"
      },
      "outputs": [
        {
          "name": "stdout",
          "output_type": "stream",
          "text": [
            "[[[   1    2    3    4    5]\n",
            "  [   2    4    6    8   10]\n",
            "  [   3    6    9   12   15]]\n",
            "\n",
            " [[   2    4    6    8   10]\n",
            "  [   4    8   12   16   20]\n",
            "  [   6   12   18   24   30]]\n",
            "\n",
            " [[   1    3    3    4    5]\n",
            "  [   3  234   34    3    4]\n",
            "  [2323  434   35   35    5]]]\n"
          ]
        }
      ],
      "source": [
        "my3dlist = [[[1,2,3,4,5], [2,4,6,8,10], [3,6,9,12,15]], [[2,4,6,8,10], [4,8,12,16,20], [6,12,18,24,30]], [[1,3,3,4,5], [3,234,34,3,4], [2323,434,35,35,5]]]\n",
        "my3darray = np.array(my3dlist)\n",
        "print(my3darray)"
      ]
    },
    {
      "attachments": {},
      "cell_type": "markdown",
      "metadata": {},
      "source": [
        "**Information about previously created arrays**"
      ]
    },
    {
      "attachments": {},
      "cell_type": "markdown",
      "metadata": {},
      "source": [
        "array.data displays the memory address"
      ]
    },
    {
      "cell_type": "code",
      "execution_count": 5,
      "metadata": {
        "colab": {
          "base_uri": "https://localhost:8080/"
        },
        "id": "UsAW6ynMuYKm",
        "outputId": "6e6feb1b-1e6e-479e-f634-303fd728dc23"
      },
      "outputs": [
        {
          "name": "stdout",
          "output_type": "stream",
          "text": [
            "<memory at 0x00000274C0B97E20>\n"
          ]
        }
      ],
      "source": [
        "print(my3darray.data)"
      ]
    },
    {
      "attachments": {},
      "cell_type": "markdown",
      "metadata": {},
      "source": [
        "array.shape displays the size of the array"
      ]
    },
    {
      "cell_type": "code",
      "execution_count": 6,
      "metadata": {
        "colab": {
          "base_uri": "https://localhost:8080/"
        },
        "id": "17lpQChCvLtk",
        "outputId": "58fd72a1-e244-493f-9417-02cdf44e48c4"
      },
      "outputs": [
        {
          "name": "stdout",
          "output_type": "stream",
          "text": [
            "(5,)\n",
            "(3, 5)\n",
            "(3, 3, 5)\n"
          ]
        }
      ],
      "source": [
        "print(myarray.shape)\n",
        "print(my2darray.shape)\n",
        "print(my3darray.shape)"
      ]
    },
    {
      "attachments": {},
      "cell_type": "markdown",
      "metadata": {},
      "source": [
        "array.dtype displays the data type of the array"
      ]
    },
    {
      "cell_type": "code",
      "execution_count": 7,
      "metadata": {
        "colab": {
          "base_uri": "https://localhost:8080/"
        },
        "id": "tR9-ZkQKvX9L",
        "outputId": "e56c9577-b9fb-47f4-f305-bfb2d4502150"
      },
      "outputs": [
        {
          "name": "stdout",
          "output_type": "stream",
          "text": [
            "int32\n",
            "int32\n",
            "int32\n"
          ]
        }
      ],
      "source": [
        "print(myarray.dtype)\n",
        "print(my2darray.dtype)\n",
        "print(my3darray.dtype)"
      ]
    },
    {
      "attachments": {},
      "cell_type": "markdown",
      "metadata": {},
      "source": [
        "array.itemsize displays the size of one element in the given array"
      ]
    },
    {
      "cell_type": "code",
      "execution_count": 8,
      "metadata": {
        "colab": {
          "base_uri": "https://localhost:8080/"
        },
        "id": "QdQeNqsrveRX",
        "outputId": "5b2cad97-8ec2-4868-d0d6-7f54a1edb4d9"
      },
      "outputs": [
        {
          "name": "stdout",
          "output_type": "stream",
          "text": [
            "4\n",
            "4\n",
            "4\n"
          ]
        }
      ],
      "source": [
        "print(myarray.itemsize)\n",
        "print(my2darray.itemsize)\n",
        "print(my3darray.itemsize)"
      ]
    },
    {
      "attachments": {},
      "cell_type": "markdown",
      "metadata": {},
      "source": [
        "array.strides displays the no. of bytes should skip to go to the next element"
      ]
    },
    {
      "cell_type": "code",
      "execution_count": 9,
      "metadata": {
        "colab": {
          "base_uri": "https://localhost:8080/"
        },
        "id": "9qNdnR8Bw3Vp",
        "outputId": "682e6fab-1c0d-49c8-f2ec-96867e529077"
      },
      "outputs": [
        {
          "name": "stdout",
          "output_type": "stream",
          "text": [
            "(4,)\n",
            "(20, 4)\n",
            "(60, 20, 4)\n"
          ]
        }
      ],
      "source": [
        "print(myarray.strides)\n",
        "print(my2darray.strides)\n",
        "print(my3darray.strides)"
      ]
    },
    {
      "attachments": {},
      "cell_type": "markdown",
      "metadata": {},
      "source": [
        "**Creating an array using built-in Numpy functions**"
      ]
    },
    {
      "attachments": {},
      "cell_type": "markdown",
      "metadata": {},
      "source": [
        "Array of one's \\\n",
        "Syntax: np.ones((shape))"
      ]
    },
    {
      "cell_type": "code",
      "execution_count": 10,
      "metadata": {},
      "outputs": [
        {
          "name": "stdout",
          "output_type": "stream",
          "text": [
            "[[1. 1. 1. 1. 1. 1. 1. 1.]\n",
            " [1. 1. 1. 1. 1. 1. 1. 1.]\n",
            " [1. 1. 1. 1. 1. 1. 1. 1.]\n",
            " [1. 1. 1. 1. 1. 1. 1. 1.]\n",
            " [1. 1. 1. 1. 1. 1. 1. 1.]]\n"
          ]
        }
      ],
      "source": [
        "ones = np.ones((5,8))\n",
        "\n",
        "print(ones)"
      ]
    },
    {
      "attachments": {},
      "cell_type": "markdown",
      "metadata": {},
      "source": [
        "Array of zero's\\\n",
        "Syntax: np.zeros((shape), dtype=data-type)"
      ]
    },
    {
      "cell_type": "code",
      "execution_count": 11,
      "metadata": {},
      "outputs": [
        {
          "name": "stdout",
          "output_type": "stream",
          "text": [
            "[[[0 0 0 0]\n",
            "  [0 0 0 0]\n",
            "  [0 0 0 0]]\n",
            "\n",
            " [[0 0 0 0]\n",
            "  [0 0 0 0]\n",
            "  [0 0 0 0]]]\n"
          ]
        }
      ],
      "source": [
        "zeros = np.zeros((2,3,4), dtype=np.int16)\n",
        "print(zeros)"
      ]
    },
    {
      "attachments": {},
      "cell_type": "markdown",
      "metadata": {},
      "source": [
        "Array of random numbers\\\n",
        "Syntax: np.random.random((shape))"
      ]
    },
    {
      "cell_type": "code",
      "execution_count": 12,
      "metadata": {},
      "outputs": [
        {
          "name": "stdout",
          "output_type": "stream",
          "text": [
            "[[[0.67222228 0.95039077 0.59605917 0.29661504]\n",
            "  [0.5151521  0.0478594  0.34775357 0.32436288]\n",
            "  [0.97153567 0.81044702 0.9158596  0.95354071]\n",
            "  [0.34622562 0.6957026  0.16915321 0.09088141]\n",
            "  [0.67124659 0.62885748 0.55402746 0.35617153]]\n",
            "\n",
            " [[0.51815756 0.65949746 0.08883838 0.39440026]\n",
            "  [0.4836665  0.35361609 0.5010035  0.47707698]\n",
            "  [0.20606115 0.43830441 0.37558956 0.68928224]\n",
            "  [0.85271274 0.82326537 0.58632471 0.16304352]\n",
            "  [0.59790706 0.97591313 0.16272082 0.45413811]]]\n"
          ]
        }
      ],
      "source": [
        "thearray=np.random.random((2,5,4))\n",
        "print(thearray)"
      ]
    },
    {
      "attachments": {},
      "cell_type": "markdown",
      "metadata": {},
      "source": [
        "Empty array with given shape (x,y,z)\n",
        "\n",
        "Syntax: np.empty((shape))\n"
      ]
    },
    {
      "cell_type": "code",
      "execution_count": 13,
      "metadata": {},
      "outputs": [
        {
          "name": "stdout",
          "output_type": "stream",
          "text": [
            "[[0. 0. 0.]\n",
            " [0. 0. 0.]]\n"
          ]
        }
      ],
      "source": [
        "Empty_array = np.empty((2,3))\n",
        "print(Empty_array)"
      ]
    },
    {
      "attachments": {},
      "cell_type": "markdown",
      "metadata": {},
      "source": [
        "Full array with given shape(2,8) with data '5'\n",
        "\n",
        "Syntax:  np.full((shape), data_to_be_filled)"
      ]
    },
    {
      "cell_type": "code",
      "execution_count": 14,
      "metadata": {},
      "outputs": [
        {
          "name": "stdout",
          "output_type": "stream",
          "text": [
            "[[5 5 5 5 5 5 5 5]\n",
            " [5 5 5 5 5 5 5 5]]\n"
          ]
        }
      ],
      "source": [
        "full_array= np.full((2,8),5)\n",
        "print(full_array)"
      ]
    },
    {
      "attachments": {},
      "cell_type": "markdown",
      "metadata": {},
      "source": [
        "Array of evenly-spaced values\n",
        "\n",
        "Syntax: np.arange(start, end, space)"
      ]
    },
    {
      "cell_type": "code",
      "execution_count": 15,
      "metadata": {},
      "outputs": [
        {
          "name": "stdout",
          "output_type": "stream",
          "text": [
            "[10 15 20]\n",
            "[ 2  7 12 17 22]\n"
          ]
        }
      ],
      "source": [
        "evenly_spaced_array = np.arange(2,25,5)\n",
        "array2 = np .arange(10, 25, 5)\n",
        "print(array2)\n",
        "print(evenly_spaced_array)"
      ]
    },
    {
      "attachments": {},
      "cell_type": "markdown",
      "metadata": {},
      "source": [
        "Array of spaced values with given range and no. of elements\n",
        "\n",
        "Syntax: np.linspace(start, end, no. of elements)"
      ]
    },
    {
      "cell_type": "code",
      "execution_count": 16,
      "metadata": {},
      "outputs": [
        {
          "name": "stdout",
          "output_type": "stream",
          "text": [
            "[1.    1.125 1.25  1.375 1.5   1.625 1.75  1.875 2.   ]\n"
          ]
        }
      ],
      "source": [
        "array1=np.linspace(1, 2, 9)\n",
        "print(array1)"
      ]
    },
    {
      "attachments": {},
      "cell_type": "markdown",
      "metadata": {},
      "source": [
        "**Numpy array and file operations**"
      ]
    },
    {
      "attachments": {},
      "cell_type": "markdown",
      "metadata": {},
      "source": [
        "saving the array to a file\n",
        "and file is also generated by it\n",
        "\n",
        "Syntax : np.savetxt(\"file_name.txt\", array , dlimiter = \"\")\n",
        "\n",
        "For the below code there is no data.csv file"
      ]
    },
    {
      "cell_type": "code",
      "execution_count": 17,
      "metadata": {},
      "outputs": [],
      "source": [
        "x = np.arange(1,51,1)\n",
        "\n",
        "\n",
        "np.savetxt(\"data.csv\", np.c_[x,x], delimiter=',')"
      ]
    },
    {
      "attachments": {},
      "cell_type": "markdown",
      "metadata": {},
      "source": [
        "Loading the data from the given file\n",
        "\n",
        "Syntax : np.loadtxt(\"file_name\", )"
      ]
    },
    {
      "cell_type": "code",
      "execution_count": 18,
      "metadata": {},
      "outputs": [
        {
          "name": "stdout",
          "output_type": "stream",
          "text": [
            "<class 'numpy.ndarray'>\n",
            "[[ 1.  2.  3.  4.  5.  6.  7.  8.  9. 10. 11. 12. 13. 14. 15. 16. 17. 18.\n",
            "  19. 20. 21. 22. 23. 24. 25. 26. 27. 28. 29. 30. 31. 32. 33. 34. 35. 36.\n",
            "  37. 38. 39. 40. 41. 42. 43. 44. 45. 46. 47. 48. 49. 50.]\n",
            " [ 1.  2.  3.  4.  5.  6.  7.  8.  9. 10. 11. 12. 13. 14. 15. 16. 17. 18.\n",
            "  19. 20. 21. 22. 23. 24. 25. 26. 27. 28. 29. 30. 31. 32. 33. 34. 35. 36.\n",
            "  37. 38. 39. 40. 41. 42. 43. 44. 45. 46. 47. 48. 49. 50.]]\n"
          ]
        }
      ],
      "source": [
        "z= np. loadtxt('data.csv', unpack=True, delimiter=',')\n",
        "print(type(z))\n",
        "print(z)"
      ]
    },
    {
      "cell_type": "code",
      "execution_count": null,
      "metadata": {},
      "outputs": [],
      "source": []
    },
    {
      "cell_type": "code",
      "execution_count": 19,
      "metadata": {},
      "outputs": [],
      "source": [
        "my_array= np.genfromtxt(\"data.out\", skip_header=1, filling_values=-999)"
      ]
    },
    {
      "attachments": {},
      "cell_type": "markdown",
      "metadata": {},
      "source": [
        "#### Prints the which dimension array it is "
      ]
    },
    {
      "cell_type": "code",
      "execution_count": 20,
      "metadata": {},
      "outputs": [
        {
          "data": {
            "text/plain": [
              "2"
            ]
          },
          "execution_count": 20,
          "metadata": {},
          "output_type": "execute_result"
        }
      ],
      "source": [
        "my2darray.ndim"
      ]
    },
    {
      "attachments": {},
      "cell_type": "markdown",
      "metadata": {},
      "source": [
        "### Prints the flags of the array"
      ]
    },
    {
      "cell_type": "code",
      "execution_count": 21,
      "metadata": {},
      "outputs": [
        {
          "data": {
            "text/plain": [
              "  C_CONTIGUOUS : True\n",
              "  F_CONTIGUOUS : False\n",
              "  OWNDATA : True\n",
              "  WRITEABLE : True\n",
              "  ALIGNED : True\n",
              "  WRITEBACKIFCOPY : False"
            ]
          },
          "execution_count": 21,
          "metadata": {},
          "output_type": "execute_result"
        }
      ],
      "source": [
        "my2darray.flags"
      ]
    },
    {
      "cell_type": "code",
      "execution_count": 22,
      "metadata": {},
      "outputs": [
        {
          "name": "stdout",
          "output_type": "stream",
          "text": [
            "[[ 1  2  3  4  5]\n",
            " [ 2  4  6  8 10]\n",
            " [ 1  4  9 16 25]]\n",
            "4\n"
          ]
        },
        {
          "data": {
            "text/plain": [
              "60"
            ]
          },
          "execution_count": 22,
          "metadata": {},
          "output_type": "execute_result"
        }
      ],
      "source": [
        "\n",
        "print(my2darray)\n",
        "print(my2darray.itemsize)\n",
        "\n",
        "my2darray.nbytes"
      ]
    },
    {
      "attachments": {},
      "cell_type": "markdown",
      "metadata": {},
      "source": [
        "### Accessing the array elements"
      ]
    },
    {
      "cell_type": "code",
      "execution_count": 23,
      "metadata": {},
      "outputs": [
        {
          "name": "stdout",
          "output_type": "stream",
          "text": [
            "2\n",
            "4\n",
            "1\n",
            "[1 2 3 4 5]\n"
          ]
        }
      ],
      "source": [
        "print(my2darray[0,1])\n",
        "\n",
        "print(my2darray[0,-2])\n",
        "\n",
        "print(my2darray[-1,-5])\n",
        "\n",
        "print(my2darray[0])"
      ]
    },
    {
      "cell_type": "code",
      "execution_count": 24,
      "metadata": {},
      "outputs": [
        {
          "name": "stdout",
          "output_type": "stream",
          "text": [
            "[1 2 3 4 5]\n",
            "[3 6 9]\n"
          ]
        }
      ],
      "source": [
        "print(my2darray[0,:])\n",
        "\n",
        "print(my2darray[:,2])"
      ]
    },
    {
      "attachments": {},
      "cell_type": "markdown",
      "metadata": {},
      "source": [
        "### Accessing the values in an array"
      ]
    },
    {
      "cell_type": "code",
      "execution_count": 25,
      "metadata": {},
      "outputs": [
        {
          "name": "stdout",
          "output_type": "stream",
          "text": [
            "[[ 1  2  3  4  6]\n",
            " [ 2  4  6  8 12]\n",
            " [ 1  4  9 16 36]]\n"
          ]
        }
      ],
      "source": [
        "my2darray[:,4]= [6,12,36]\n",
        "\n",
        "print(my2darray)"
      ]
    },
    {
      "cell_type": "code",
      "execution_count": 26,
      "metadata": {},
      "outputs": [
        {
          "name": "stdout",
          "output_type": "stream",
          "text": [
            "[[ 1  2  2  4  6]\n",
            " [ 2  4  2  8 12]\n",
            " [ 1  4  2 16 36]]\n"
          ]
        }
      ],
      "source": [
        "my2darray[:,2]=2\n",
        "print(my2darray)"
      ]
    },
    {
      "cell_type": "code",
      "execution_count": 27,
      "metadata": {},
      "outputs": [
        {
          "data": {
            "text/plain": [
              "3"
            ]
          },
          "execution_count": 27,
          "metadata": {},
          "output_type": "execute_result"
        }
      ],
      "source": [
        "my3darray.ndim"
      ]
    },
    {
      "attachments": {},
      "cell_type": "markdown",
      "metadata": {},
      "source": [
        "### **Mathematical operations**"
      ]
    },
    {
      "cell_type": "code",
      "execution_count": 28,
      "metadata": {},
      "outputs": [
        {
          "name": "stdout",
          "output_type": "stream",
          "text": [
            "[ 7  9 11 13 15]\n"
          ]
        }
      ],
      "source": [
        "a= np.array([1,2,3,4,5])\n",
        "b= np.array([6,7,8,9,10])\n",
        "\n",
        "addition = a+b\n",
        "print(addition)"
      ]
    },
    {
      "cell_type": "code",
      "execution_count": 29,
      "metadata": {},
      "outputs": [
        {
          "name": "stdout",
          "output_type": "stream",
          "text": [
            "[ 7  9 11 13 15]\n",
            "[5 5 5 5 5]\n",
            "[ 6 14 24 36 50]\n",
            "[0.16666667 0.28571429 0.375      0.44444444 0.5       ]\n",
            "[1 2 3 4 5]\n"
          ]
        }
      ],
      "source": [
        "add = np.add(a,b)\n",
        "sub = np.subtract(b,a)\n",
        "mul = np.multiply(a,b)\n",
        "div = np.divide(a,b)\n",
        "rem = np.remainder(a,b)\n",
        "\n",
        "print(add)\n",
        "print(sub)\n",
        "print(mul)\n",
        "print(div)\n",
        "print(rem)"
      ]
    },
    {
      "attachments": {},
      "cell_type": "markdown",
      "metadata": {},
      "source": [
        "### Reorganising the array\n"
      ]
    },
    {
      "cell_type": "code",
      "execution_count": 30,
      "metadata": {},
      "outputs": [
        {
          "name": "stdout",
          "output_type": "stream",
          "text": [
            "[[ 1  2  2]\n",
            " [ 4  6  2]\n",
            " [ 4  2  8]\n",
            " [12  1  4]\n",
            " [ 2 16 36]]\n"
          ]
        }
      ],
      "source": [
        "changed = my2darray.reshape(5,3)\n",
        "print(changed)"
      ]
    },
    {
      "attachments": {},
      "cell_type": "markdown",
      "metadata": {},
      "source": [
        "**Creating the vertical stack using two arrays**"
      ]
    },
    {
      "cell_type": "code",
      "execution_count": 31,
      "metadata": {},
      "outputs": [
        {
          "data": {
            "text/plain": [
              "array([[ 1,  2,  3,  4,  5],\n",
              "       [ 6,  7,  8,  9, 10]])"
            ]
          },
          "execution_count": 31,
          "metadata": {},
          "output_type": "execute_result"
        }
      ],
      "source": [
        "np.vstack((a,b))"
      ]
    },
    {
      "attachments": {},
      "cell_type": "markdown",
      "metadata": {},
      "source": [
        "**Creating the horizontal stack using two arrays**"
      ]
    },
    {
      "cell_type": "code",
      "execution_count": 32,
      "metadata": {},
      "outputs": [
        {
          "data": {
            "text/plain": [
              "array([ 1,  2,  3,  4,  5,  6,  7,  8,  9, 10])"
            ]
          },
          "execution_count": 32,
          "metadata": {},
          "output_type": "execute_result"
        }
      ],
      "source": [
        "np.hstack((a,b))"
      ]
    },
    {
      "cell_type": "code",
      "execution_count": 33,
      "metadata": {},
      "outputs": [
        {
          "name": "stdout",
          "output_type": "stream",
          "text": [
            "[1 2 3 4 5]\n",
            "[1 2]\n",
            "[2 3 4]\n",
            "[[ 1  2  2  4  6]\n",
            " [ 2  4  2  8 12]\n",
            " [ 1  4  2 16 36]]\n",
            "\n",
            "\n",
            "[[ 2  4  6]\n",
            " [ 2  8 12]\n",
            " [ 2 16 36]]\n",
            "[[1. 0. 0. 0. 0. 0.]\n",
            " [0. 1. 0. 0. 0. 0.]\n",
            " [0. 0. 1. 0. 0. 0.]\n",
            " [0. 0. 0. 1. 0. 0.]\n",
            " [0. 0. 0. 0. 1. 0.]\n",
            " [0. 0. 0. 0. 0. 1.]]\n",
            "[[0. 0.]\n",
            " [0. 0.]\n",
            " [1. 0.]]\n"
          ]
        }
      ],
      "source": [
        "print(a)\n",
        "print(a[0:2])\n",
        "print(a[1:4])\n",
        "print(my2darray,end=\"\\n\\n\\n\")\n",
        "\n",
        "print(my2darray[:,2:5])\n",
        "\n",
        "test = np.identity(6)\n",
        "\n",
        "print(test)\n",
        "\n",
        "print(test[2:5,4:])\n"
      ]
    },
    {
      "attachments": {},
      "cell_type": "markdown",
      "metadata": {},
      "source": [
        "**Specifying the conditions**"
      ]
    },
    {
      "cell_type": "code",
      "execution_count": 34,
      "metadata": {},
      "outputs": [
        {
          "name": "stdout",
          "output_type": "stream",
          "text": [
            "[[ 1  2  2  4  6]\n",
            " [ 2  4  2  8 12]\n",
            " [ 1  4  2 16 36]]\n",
            "\n",
            "\n",
            "[ 4  6  4  8 12  4 16 36]\n"
          ]
        }
      ],
      "source": [
        "biggerthan = (my2darray>=4)\n",
        "print(my2darray,end=\"\\n\\n\\n\")\n",
        "print(my2darray[biggerthan])"
      ]
    },
    {
      "attachments": {},
      "cell_type": "markdown",
      "metadata": {},
      "source": [
        "# Matplotlib - Data Visualization\n",
        "### Various graphs used to identify:\n",
        "##### For comparing data       : Bar plot, Line plot, Pie plot\n",
        "##### For distribution of data : Scatter plot, Box plot, Violin plot\n",
        "##### For continuous data      : Box plot, Histogram, Area plot\n"
      ]
    },
    {
      "attachments": {},
      "cell_type": "markdown",
      "metadata": {},
      "source": [
        "## Line plot \n"
      ]
    },
    {
      "cell_type": "code",
      "execution_count": 43,
      "metadata": {},
      "outputs": [
        {
          "name": "stdout",
          "output_type": "stream",
          "text": [
            "[45, 56, 34, 67, 12, 97]\n"
          ]
        },
        {
          "data": {
            "image/png": "[encoded data removed]",
            "text/plain": [
              "<Figure size 500x500 with 1 Axes>"
            ]
          },
          "metadata": {},
          "output_type": "display_data"
        }
      ],
      "source": [
        "import matplotlib.pyplot as plt\n",
        "gdata = [45,56,34,67,12,97]\n",
        "print(gdata)\n",
        "fig = plt.figure(figsize = (5,5))\n",
        "plt.plot(gdata)\n",
        "plt.show()"
      ]
    },
    {
      "cell_type": "code",
      "execution_count": null,
      "metadata": {},
      "outputs": [],
      "source": []
    }
  ],
  "metadata": {
    "colab": {
      "provenance": []
    },
    "kernelspec": {
      "display_name": "Python 3",
      "language": "python",
      "name": "python3"
    },
    "language_info": {
      "codemirror_mode": {
        "name": "ipython",
        "version": 3
      },
      "file_extension": ".py",
      "mimetype": "text/x-python",
      "name": "python",
      "nbconvert_exporter": "python",
      "pygments_lexer": "ipython3",
      "version": "3.11.0"
    },
    "vscode": {
      "interpreter": {
        "hash": "e8b60e3bd47c5b1da39fcb4b6e7cc214ddff6c0b7d989b968029d70a3d401f24"
      }
    }
  },
  "nbformat": 4,
  "nbformat_minor": 0
}
