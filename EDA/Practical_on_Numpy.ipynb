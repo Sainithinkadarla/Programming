{
  "cells": [
    {
      "attachments": {},
      "cell_type": "markdown",
      "metadata": {
        "id": "pT5sPIXySGpi"
      },
      "source": [
        "# Numpy Basics"
      ]
    },
    {
      "cell_type": "markdown",
      "metadata": {
        "id": "eHnMalVdRlbC"
      },
      "source": [
        "**Defining a list and converting the list into an array using Numpy**"
      ]
    },
    {
      "cell_type": "code",
      "execution_count": 6,
      "metadata": {
        "colab": {
          "base_uri": "https://localhost:8080/"
        },
        "id": "UIP7jKwNPTd0",
        "outputId": "d2f58f52-ecc9-40a8-fb1c-c07a4790da70"
      },
      "outputs": [
        {
          "name": "stdout",
          "output_type": "stream",
          "text": [
            "[1 2 3 4]\n"
          ]
        }
      ],
      "source": [
        "import numpy as np \n",
        "mylist = [1,2,3,4]\n",
        "myarray = np.array(mylist)\n",
        "print(myarray)"
      ]
    },
    {
      "cell_type": "markdown",
      "metadata": {},
      "source": []
    },
    {
      "cell_type": "markdown",
      "metadata": {
        "id": "ozQQvZdMTua2"
      },
      "source": [
        "**Defining a two dimensional list and converting the list into array**"
      ]
    },
    {
      "cell_type": "code",
      "execution_count": null,
      "metadata": {
        "colab": {
          "base_uri": "https://localhost:8080/"
        },
        "id": "iWz1OeenP6Um",
        "outputId": "f1970ead-d091-40ae-a27e-09577e2edf25"
      },
      "outputs": [
        {
          "name": "stdout",
          "output_type": "stream",
          "text": [
            "[[ 1  2  3  4  5]\n",
            " [ 2  4  6  8 10]\n",
            " [ 1  4  9 16 25]]\n"
          ]
        }
      ],
      "source": [
        "my2dlist = [[1,2,3,4,5], [2,4,6,8,10], [1,4,9,16,25]]\n",
        "my2darray = np.array(my2dlist)\n",
        "print(my2darray)\n",
        "\n"
      ]
    },
    {
      "cell_type": "markdown",
      "metadata": {
        "id": "jVq6zUBxUG5e"
      },
      "source": [
        "**Defining a three dimensional list and converting the list into array**"
      ]
    },
    {
      "cell_type": "code",
      "execution_count": null,
      "metadata": {
        "colab": {
          "base_uri": "https://localhost:8080/"
        },
        "id": "1hJp5EkMTpuz",
        "outputId": "02087ac0-12ee-4696-e543-4a2740bd3f98"
      },
      "outputs": [
        {
          "name": "stdout",
          "output_type": "stream",
          "text": [
            "[[[   1    2    3    4    5]\n",
            "  [   2    4    6    8   10]\n",
            "  [   3    6    9   12   15]]\n",
            "\n",
            " [[   2    4    6    8   10]\n",
            "  [   4    8   12   16   20]\n",
            "  [   6   12   18   24   30]]\n",
            "\n",
            " [[   1    3    3    4    5]\n",
            "  [   3  234   34    3    4]\n",
            "  [2323  434   35   35    5]]]\n"
          ]
        }
      ],
      "source": [
        "my3dlist = [[[1,2,3,4,5], [2,4,6,8,10], [3,6,9,12,15]], [[2,4,6,8,10], [4,8,12,16,20], [6,12,18,24,30]], [[1,3,3,4,5], [3,234,34,3,4], [2323,434,35,35,5]]]\n",
        "my3darray = np.array(my3dlist)\n",
        "print(my3darray)"
      ]
    },
    {
      "attachments": {},
      "cell_type": "markdown",
      "metadata": {},
      "source": [
        "**Information about previously created arrays**"
      ]
    },
    {
      "cell_type": "code",
      "execution_count": null,
      "metadata": {
        "colab": {
          "base_uri": "https://localhost:8080/"
        },
        "id": "UsAW6ynMuYKm",
        "outputId": "6e6feb1b-1e6e-479e-f634-303fd728dc23"
      },
      "outputs": [
        {
          "name": "stdout",
          "output_type": "stream",
          "text": [
            "<memory at 0x7f01260256d0>\n"
          ]
        }
      ],
      "source": [
        "print(my3darray.data)"
      ]
    },
    {
      "cell_type": "code",
      "execution_count": null,
      "metadata": {
        "colab": {
          "base_uri": "https://localhost:8080/"
        },
        "id": "17lpQChCvLtk",
        "outputId": "58fd72a1-e244-493f-9417-02cdf44e48c4"
      },
      "outputs": [
        {
          "name": "stdout",
          "output_type": "stream",
          "text": [
            "(3, 3, 5)\n"
          ]
        }
      ],
      "source": [
        "print(my3darray.shape)"
      ]
    },
    {
      "cell_type": "code",
      "execution_count": null,
      "metadata": {
        "colab": {
          "base_uri": "https://localhost:8080/"
        },
        "id": "tR9-ZkQKvX9L",
        "outputId": "e56c9577-b9fb-47f4-f305-bfb2d4502150"
      },
      "outputs": [
        {
          "name": "stdout",
          "output_type": "stream",
          "text": [
            "int64\n"
          ]
        }
      ],
      "source": [
        "print(my3darray.dtype)"
      ]
    },
    {
      "cell_type": "code",
      "execution_count": null,
      "metadata": {
        "colab": {
          "base_uri": "https://localhost:8080/"
        },
        "id": "QdQeNqsrveRX",
        "outputId": "5b2cad97-8ec2-4868-d0d6-7f54a1edb4d9"
      },
      "outputs": [
        {
          "name": "stdout",
          "output_type": "stream",
          "text": [
            "8\n"
          ]
        }
      ],
      "source": [
        "print(my3darray.itemsize)"
      ]
    },
    {
      "cell_type": "code",
      "execution_count": null,
      "metadata": {
        "colab": {
          "base_uri": "https://localhost:8080/"
        },
        "id": "9qNdnR8Bw3Vp",
        "outputId": "682e6fab-1c0d-49c8-f2ec-96867e529077"
      },
      "outputs": [
        {
          "name": "stdout",
          "output_type": "stream",
          "text": [
            "(120, 40, 8)\n"
          ]
        }
      ],
      "source": [
        "print(my3darray.strides)"
      ]
    }
  ],
  "metadata": {
    "colab": {
      "provenance": []
    },
    "kernelspec": {
      "display_name": "Python 3",
      "language": "python",
      "name": "python3"
    },
    "language_info": {
      "codemirror_mode": {
        "name": "ipython",
        "version": 3
      },
      "file_extension": ".py",
      "mimetype": "text/x-python",
      "name": "python",
      "nbconvert_exporter": "python",
      "pygments_lexer": "ipython3",
      "version": "3.11.0"
    },
    "vscode": {
      "interpreter": {
        "hash": "e8b60e3bd47c5b1da39fcb4b6e7cc214ddff6c0b7d989b968029d70a3d401f24"
      }
    }
  },
  "nbformat": 4,
  "nbformat_minor": 0
}
