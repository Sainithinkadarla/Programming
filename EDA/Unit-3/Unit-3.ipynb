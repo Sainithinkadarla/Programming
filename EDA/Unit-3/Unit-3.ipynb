{
 "cells": [
  {
   "attachments": {},
   "cell_type": "markdown",
   "metadata": {},
   "source": [
    "# Unit-3\n"
   ]
  },
  {
   "attachments": {},
   "cell_type": "markdown",
   "metadata": {},
   "source": [
    "## Linear algebra"
   ]
  },
  {
   "cell_type": "code",
   "execution_count": 2,
   "metadata": {},
   "outputs": [],
   "source": [
    "import numpy.linalg as la"
   ]
  },
  {
   "attachments": {},
   "cell_type": "markdown",
   "metadata": {},
   "source": [
    "### Fitting to polynomials with numpy\n"
   ]
  },
  {
   "attachments": {},
   "cell_type": "markdown",
   "metadata": {},
   "source": [
    "    Polynomial fucntions are linear, quadratic, cubic and quartic functions.\n",
    "\n",
    "    Numpy offers 2 methods :\n",
    "\n",
    "    1. polyfit()\n",
    "    2. polyval()\n",
    "    \n",
    "    1. polyfit():\n",
    "        polyfit() method to generate polynomials using least squares which takes the parameters x, y, degree and returns a list of polynomial coefficients\n",
    "    2. polyval():\n",
    "        polyval() method to evaluate the polynomial at given values which takes coefficients of the polynomials and array of points and returns the resultant polynomials"
   ]
  },
  {
   "cell_type": "code",
   "execution_count": 3,
   "metadata": {},
   "outputs": [
    {
     "data": {
      "image/png": "[encoded data removed]",
      "text/plain": [
       "<Figure size 640x480 with 1 Axes>"
      ]
     },
     "metadata": {},
     "output_type": "display_data"
    }
   ],
   "source": [
    "import numpy as np\n",
    "import matplotlib.pyplot as plt\n",
    "\n",
    "v1 = np.random.rand(10)\n",
    "v2 = np.random.rand(10)\n",
    "\n",
    "\n",
    "sequence = np.linspace(v1.min(), v1.max(), num = len(v1)*10)\n",
    "#print(sequence, sequence.size,v1.min(), v1.max())\n",
    "\n",
    "coefs = np.polyfit(v1,v2,3)\n",
    "\n",
    "polynomial_sequence = np.polyval(coefs, sequence)\n",
    "\n",
    "plt.plot(sequence, polynomial_sequence)\n",
    "plt.show()"
   ]
  },
  {
   "attachments": {},
   "cell_type": "markdown",
   "metadata": {},
   "source": [
    "### Determinant\n",
    "    The determinant is a fundamental operation that helps us in the inverse matrix and in solving linear equations."
   ]
  },
  {
   "attachments": {},
   "cell_type": "markdown",
   "metadata": {},
   "source": [
    "    Determinants are only calculated for square matrices.\n",
    "    numpy.linalg subpackage has det() method to calculate the determinant of the given square matrix"
   ]
  },
  {
   "cell_type": "code",
   "execution_count": 4,
   "metadata": {},
   "outputs": [
    {
     "name": "stdout",
     "output_type": "stream",
     "text": [
      "-5.999999999999998\n"
     ]
    }
   ],
   "source": [
    "matrix = np.mat([[2,4],[5,7]])\n",
    "\n",
    "print(np.linalg.det(matrix))\n"
   ]
  },
  {
   "attachments": {},
   "cell_type": "markdown",
   "metadata": {},
   "source": [
    "### Finding the rank of a matrix\n",
    "    The rank of a matrix represents the amount of information that is kept in the matrix."
   ]
  },
  {
   "attachments": {},
   "cell_type": "markdown",
   "metadata": {},
   "source": [
    "    A lower rank means less information, and a higher rank means a high amount of information.\n",
    "    Rank can be defined as the number of independent rows or columns of a matrix\n",
    "\n",
    "    numpy.linalg subpackage has matrix_rank() method to calculate the rank of the given square matrix\n",
    "    "
   ]
  },
  {
   "cell_type": "code",
   "execution_count": 5,
   "metadata": {},
   "outputs": [
    {
     "name": "stdout",
     "output_type": "stream",
     "text": [
      "rank :  1\n"
     ]
    }
   ],
   "source": [
    "from numpy.linalg import matrix_rank\n",
    "\n",
    "mat = np.array([[1,2,3,],[4,5,6],[7,8,9]])\\\n",
    "\n",
    "mat2 = np.arange(17,100,25)\n",
    "\n",
    "\n",
    "print(\"rank : \",matrix_rank(mat2))"
   ]
  },
  {
   "attachments": {},
   "cell_type": "markdown",
   "metadata": {},
   "source": [
    "### Matrix inverse using NumPy\n",
    "    The multiplication of a square matrix and its inverse is equal to the identity matrix I.\n",
    "                                            A.A^-1= I\n"
   ]
  },
  {
   "attachments": {},
   "cell_type": "markdown",
   "metadata": {},
   "source": [
    "    numpy.linalg subpackage has inv() method for an inverse operation"
   ]
  },
  {
   "cell_type": "code",
   "execution_count": 6,
   "metadata": {},
   "outputs": [
    {
     "name": "stdout",
     "output_type": "stream",
     "text": [
      "[[2 4]\n",
      " [5 7]]\n",
      "[[-1.16666667  0.66666667]\n",
      " [ 0.83333333 -0.33333333]]\n"
     ]
    }
   ],
   "source": [
    "mat = np.mat([[2,4],[5,7]])\n",
    "\n",
    "print(mat)\n",
    "\n",
    "inverse_mat = la.inv(mat)\n",
    "\n",
    "print(inverse_mat)"
   ]
  },
  {
   "attachments": {},
   "cell_type": "markdown",
   "metadata": {},
   "source": [
    "### Solving linear equations using NumPy"
   ]
  },
  {
   "attachments": {},
   "cell_type": "markdown",
   "metadata": {},
   "source": [
    "    numpy.linalg offers solve() method to solve linear equations in the form of Ax=B.\n",
    "    Here,\n",
    "    A is the n*n matrix,\n",
    "    B is a one-dimensional array and \n",
    "    x is the unknown one-dimensional vector\n",
    "    \n",
    "    Numpy offers dot() method to compute the dot product of two floating-point number arrays"
   ]
  },
  {
   "cell_type": "code",
   "execution_count": 15,
   "metadata": {},
   "outputs": [
    {
     "name": "stdout",
     "output_type": "stream",
     "text": [
      "Matrix A:\n",
      " [[1 4]\n",
      " [3 2]]\n",
      "\n",
      "Vector B: [12 50]\n",
      "\n",
      "\n",
      "solution:  [17.6 -1.4]\n",
      "\n",
      "Final result [[12. 50.]]\n"
     ]
    }
   ],
   "source": [
    "a= np.mat([[1,4],[3,2]])\n",
    "print(\"Matrix A:\\n\", a)\n",
    "\n",
    "b = np.array([12,50])\n",
    "print(\"\\nVector B:\", b)\n",
    "\n",
    "# solving the linear equation\n",
    "\n",
    "sol = la.solve(a,b)\n",
    "print(\"\\n\\nsolution: \",sol)\n",
    "\n",
    "result = np.dot(a,sol)\n",
    "print(\"\\nFinal result\",result)"
   ]
  },
  {
   "cell_type": "code",
   "execution_count": null,
   "metadata": {},
   "outputs": [],
   "source": []
  }
 ],
 "metadata": {
  "kernelspec": {
   "display_name": "Python 3",
   "language": "python",
   "name": "python3"
  },
  "language_info": {
   "codemirror_mode": {
    "name": "ipython",
    "version": 3
   },
   "file_extension": ".py",
   "mimetype": "text/x-python",
   "name": "python",
   "nbconvert_exporter": "python",
   "pygments_lexer": "ipython3",
   "version": "3.11.0"
  },
  "orig_nbformat": 4
 },
 "nbformat": 4,
 "nbformat_minor": 2
}
