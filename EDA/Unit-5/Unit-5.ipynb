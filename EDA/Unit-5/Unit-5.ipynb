{
 "cells": [
  {
   "cell_type": "code",
   "execution_count": 17,
   "metadata": {},
   "outputs": [
    {
     "name": "stdout",
     "output_type": "stream",
     "text": [
      "176\n",
      "0.398811840908473\n",
      "accepted\n"
     ]
    }
   ],
   "source": [
    "import numpy as np\n",
    "from scipy.stats import ttest_1samp\n",
    "from math import floor\n",
    "\n",
    "height = np.array([172, 184, 174, 168, 174, 183, 173, 173, 184,\n",
    "179, 171, 173, 181, 183, 172, 178, 170, 182, 181, 172, 175, 170,\n",
    "168, 178, 170, 181, 180, 173, 183, 180, 177, 181, 171, 173, 171,\n",
    "182, 180, 170, 172, 175, 178, 174, 184, 177, 181, 180, 178, 179,\n",
    "175, 170, 182, 176, 183, 179, 177])\n",
    "\n",
    "avg = floor(np.mean(height))\n",
    "print(avg)\n",
    "\n",
    "\n",
    "tset, pval = ttest_1samp(height, avg)\n",
    "\n",
    "print(pval)\n",
    "\n",
    "if pval > 0.05 :\n",
    "    print(\"accepted\")\n",
    "else:\n",
    "    print('rejected')"
   ]
  }
 ],
 "metadata": {
  "kernelspec": {
   "display_name": "Python 3",
   "language": "python",
   "name": "python3"
  },
  "language_info": {
   "codemirror_mode": {
    "name": "ipython",
    "version": 3
   },
   "file_extension": ".py",
   "mimetype": "text/x-python",
   "name": "python",
   "nbconvert_exporter": "python",
   "pygments_lexer": "ipython3",
   "version": "3.11.0"
  },
  "orig_nbformat": 4
 },
 "nbformat": 4,
 "nbformat_minor": 2
}
