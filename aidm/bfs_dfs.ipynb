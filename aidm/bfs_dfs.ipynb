{
 "cells": [
  {
   "cell_type": "code",
   "execution_count": 5,
   "metadata": {},
   "outputs": [],
   "source": [
    "g = {\n",
    "    'a':[['b','c','d'],False],\n",
    "    'b':[['a','e','f'],False],\n",
    "    'c':[['a','e'],False],\n",
    "    'd':[['a','f'],False],\n",
    "    'e':[['b','c','g'],False],\n",
    "    'f':[['b','d','g'],False],\n",
    "    'g':[['e','f'],False],\n",
    "}\n"
   ]
  },
  {
   "cell_type": "code",
   "execution_count": 6,
   "metadata": {},
   "outputs": [
    {
     "name": "stdout",
     "output_type": "stream",
     "text": [
      "b\n",
      "a\n",
      "e\n",
      "f\n",
      "c\n",
      "d\n",
      "g\n"
     ]
    }
   ],
   "source": [
    "\n",
    "def bfs(root):\n",
    "    queue = []\n",
    "    queue.append(root)\n",
    "    g[queue[0]][1] = True\n",
    "\n",
    "    while queue:\n",
    "        current = queue.pop(0)\n",
    "        print(current)\n",
    "\n",
    "        for node in g[current][0]:\n",
    "            if g[node][1] == False:\n",
    "                queue.append(node)\n",
    "                g[node][1]= True\n",
    "\n",
    "\n",
    "bfs('b')"
   ]
  },
  {
   "cell_type": "code",
   "execution_count": 7,
   "metadata": {},
   "outputs": [],
   "source": [
    "g = {\n",
    "    'a':[['b','c','d'],False],\n",
    "    'b':[['a','e','f'],False],\n",
    "    'c':[['a','e'],False],\n",
    "    'd':[['a','f'],False],\n",
    "    'e':[['b','c','g'],False],\n",
    "    'f':[['b','d','g'],False],\n",
    "    'g':[['e','f'],False],\n",
    "}\n"
   ]
  },
  {
   "cell_type": "code",
   "execution_count": 8,
   "metadata": {},
   "outputs": [
    {
     "name": "stdout",
     "output_type": "stream",
     "text": [
      "a\n",
      "d\n",
      "f\n",
      "g\n",
      "e\n",
      "c\n",
      "b\n"
     ]
    }
   ],
   "source": [
    "def dfs(root):\n",
    "    stack = []\n",
    "    stack.append(root)\n",
    "    g[stack[0]][1] = True\n",
    "\n",
    "    while stack:\n",
    "        current = stack.pop()\n",
    "        print(current)\n",
    "\n",
    "        for node in g[current][0]:\n",
    "            if g[node][1] == False:\n",
    "                stack.append(node)\n",
    "                g[node][1]= True\n",
    "\n",
    "\n",
    "dfs('a')"
   ]
  }
 ],
 "metadata": {
  "kernelspec": {
   "display_name": "Python 3",
   "language": "python",
   "name": "python3"
  },
  "language_info": {
   "codemirror_mode": {
    "name": "ipython",
    "version": 3
   },
   "file_extension": ".py",
   "mimetype": "text/x-python",
   "name": "python",
   "nbconvert_exporter": "python",
   "pygments_lexer": "ipython3",
   "version": "3.11.0"
  },
  "orig_nbformat": 4
 },
 "nbformat": 4,
 "nbformat_minor": 2
}
