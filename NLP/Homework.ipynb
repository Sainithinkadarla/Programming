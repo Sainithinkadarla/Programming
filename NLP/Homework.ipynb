{
 "cells": [
  {
   "cell_type": "code",
   "execution_count": 131,
   "metadata": {},
   "outputs": [],
   "source": [
    "sample = \"The Gateway of india\""
   ]
  },
  {
   "cell_type": "code",
   "execution_count": 132,
   "metadata": {},
   "outputs": [
    {
     "data": {
      "text/plain": [
       "20"
      ]
     },
     "execution_count": 132,
     "metadata": {},
     "output_type": "execute_result"
    }
   ],
   "source": [
    "len(sample)"
   ]
  },
  {
   "cell_type": "code",
   "execution_count": 133,
   "metadata": {},
   "outputs": [
    {
     "data": {
      "text/plain": [
       "5"
      ]
     },
     "execution_count": 133,
     "metadata": {},
     "output_type": "execute_result"
    }
   ],
   "source": [
    "sample.find('a')"
   ]
  },
  {
   "cell_type": "code",
   "execution_count": 134,
   "metadata": {},
   "outputs": [
    {
     "data": {
      "text/plain": [
       "19"
      ]
     },
     "execution_count": 134,
     "metadata": {},
     "output_type": "execute_result"
    }
   ],
   "source": [
    "sample.rfind('a')"
   ]
  },
  {
   "cell_type": "code",
   "execution_count": 135,
   "metadata": {},
   "outputs": [
    {
     "data": {
      "text/plain": [
       "5"
      ]
     },
     "execution_count": 135,
     "metadata": {},
     "output_type": "execute_result"
    }
   ],
   "source": [
    "sample.index('a')"
   ]
  },
  {
   "cell_type": "code",
   "execution_count": 136,
   "metadata": {},
   "outputs": [
    {
     "data": {
      "text/plain": [
       "19"
      ]
     },
     "execution_count": 136,
     "metadata": {},
     "output_type": "execute_result"
    }
   ],
   "source": [
    "sample.rindex('a')"
   ]
  },
  {
   "cell_type": "code",
   "execution_count": 137,
   "metadata": {},
   "outputs": [
    {
     "data": {
      "text/plain": [
       "'|The Gateway of india|'"
      ]
     },
     "execution_count": 137,
     "metadata": {},
     "output_type": "execute_result"
    }
   ],
   "source": [
    "sample.join('||')"
   ]
  },
  {
   "cell_type": "code",
   "execution_count": 138,
   "metadata": {},
   "outputs": [
    {
     "data": {
      "text/plain": [
       "['The', 'Gateway', 'of', 'india']"
      ]
     },
     "execution_count": 138,
     "metadata": {},
     "output_type": "execute_result"
    }
   ],
   "source": [
    "sample.split(' ')"
   ]
  },
  {
   "cell_type": "code",
   "execution_count": 139,
   "metadata": {},
   "outputs": [
    {
     "data": {
      "text/plain": [
       "['The Gateway of india', 'Mumbai india']"
      ]
     },
     "execution_count": 139,
     "metadata": {},
     "output_type": "execute_result"
    }
   ],
   "source": [
    "sample = sample + \"\\nMumbai india\"\n",
    "sample.splitlines()"
   ]
  },
  {
   "cell_type": "code",
   "execution_count": 140,
   "metadata": {},
   "outputs": [
    {
     "data": {
      "text/plain": [
       "'the gateway of india\\nmumbai india'"
      ]
     },
     "execution_count": 140,
     "metadata": {},
     "output_type": "execute_result"
    }
   ],
   "source": [
    "sample.lower()"
   ]
  },
  {
   "cell_type": "code",
   "execution_count": 141,
   "metadata": {},
   "outputs": [
    {
     "data": {
      "text/plain": [
       "'THE GATEWAY OF INDIA\\nMUMBAI INDIA'"
      ]
     },
     "execution_count": 141,
     "metadata": {},
     "output_type": "execute_result"
    }
   ],
   "source": [
    "sample.upper()"
   ]
  },
  {
   "cell_type": "code",
   "execution_count": 142,
   "metadata": {},
   "outputs": [
    {
     "data": {
      "text/plain": [
       "'The Gateway Of India\\nMumbai India'"
      ]
     },
     "execution_count": 142,
     "metadata": {},
     "output_type": "execute_result"
    }
   ],
   "source": [
    "sample.title()"
   ]
  },
  {
   "cell_type": "code",
   "execution_count": 143,
   "metadata": {},
   "outputs": [
    {
     "data": {
      "text/plain": [
       "'  The Gateway of india\\nMumbai india  '"
      ]
     },
     "execution_count": 143,
     "metadata": {},
     "output_type": "execute_result"
    }
   ],
   "source": [
    "sample =\"  \" + sample + \"  \"\n",
    "sample"
   ]
  },
  {
   "cell_type": "code",
   "execution_count": 144,
   "metadata": {},
   "outputs": [
    {
     "name": "stdout",
     "output_type": "stream",
     "text": [
      "The Gateway of india\n",
      "Mumbai india\n"
     ]
    }
   ],
   "source": [
    "print(sample.strip())\n",
    "sample = sample.strip()"
   ]
  },
  {
   "cell_type": "code",
   "execution_count": 145,
   "metadata": {},
   "outputs": [
    {
     "data": {
      "text/plain": [
       "'The_Gateway_of_india\\nMumbai_india'"
      ]
     },
     "execution_count": 145,
     "metadata": {},
     "output_type": "execute_result"
    }
   ],
   "source": [
    "sample.replace(' ',\"_\")"
   ]
  },
  {
   "cell_type": "code",
   "execution_count": 149,
   "metadata": {},
   "outputs": [
    {
     "name": "stderr",
     "output_type": "stream",
     "text": [
      "[nltk_data] Downloading package words to\n",
      "[nltk_data]     C:\\Users\\sainithin\\AppData\\Roaming\\nltk_data...\n",
      "[nltk_data]   Package words is already up-to-date!\n"
     ]
    },
    {
     "name": "stdout",
     "output_type": "stream",
     "text": [
      "No valid 9-letter words found.\n"
     ]
    }
   ],
   "source": [
    "import nltk\n",
    "from nltk.corpus import words\n",
    "\n",
    "def is_valid_word(word):\n",
    "  \"\"\"\n",
    "  Checks if a word is valid based on the given rules, incorporating NLTK.\n",
    "  \"\"\"\n",
    "  # Ensure the center letter \"I\" is present and no repeated letters (except \"I\").\n",
    "  if not all(count == word.count(char) for char in set(word) - {\"I\"}) or \"I\" not in word:\n",
    "    return False\n",
    "  # Check for plurals ending \"s\" and basic dictionary validation using NLTK\n",
    "  return not word.endswith(\"s\") and word in words.words()\n",
    "\n",
    "def find_words(letters):\n",
    "  \"\"\"\n",
    "  Finds all valid words of four letters or more from the given letters.\n",
    "  \"\"\"\n",
    "  words = set()\n",
    "  for length in range(4, 10):  # Search for words from 4 to 9 letters\n",
    "    for permutation in permutations(letters, length):\n",
    "      word = \"\".join(permutation)\n",
    "      if is_valid_word(word):\n",
    "        words.add(word)\n",
    "  return words\n",
    "\n",
    "letters = \"EGILNORV\"\n",
    "\n",
    "# Download NLTK resources if not already present\n",
    "nltk.download('words')\n",
    "\n",
    "words = find_words(letters)\n",
    "\n",
    "if len(words) >= 1:  # Check for at least one 9-letter word\n",
    "  if len(words) >= 42:\n",
    "    print(\"Excellent! You found\", len(words), \"words.\")\n",
    "  elif len(words) >= 32:\n",
    "    print(\"Very good! You found\", len(words), \"words.\")\n",
    "  else:\n",
    "    print(\"Good! You found\", len(words), \"words.\")\n",
    "else:\n",
    "  print(\"No valid 9-letter words found.\")\n"
   ]
  },
  {
   "cell_type": "code",
   "execution_count": 157,
   "metadata": {},
   "outputs": [
    {
     "name": "stdout",
     "output_type": "stream",
     "text": [
      "Total words found: 0\n"
     ]
    },
    {
     "name": "stderr",
     "output_type": "stream",
     "text": [
      "[nltk_data] Downloading package words to\n",
      "[nltk_data]     C:\\Users\\sainithin\\AppData\\Roaming\\nltk_data...\n",
      "[nltk_data]   Package words is already up-to-date!\n"
     ]
    }
   ],
   "source": [
    "import nltk\n",
    "from nltk.corpus import words\n",
    "\n",
    "# Download NLTK words corpus if not already downloaded\n",
    "nltk.download('words')\n",
    "\n",
    "# Function to check if a word can be formed from given letters\n",
    "def can_make_word(word, letters):\n",
    "    return all(word.count(letter) <= letters.count(letter) for letter in word)\n",
    "\n",
    "# Given letters\n",
    "letters = \"EGINOLRV\"\n",
    "center_letter = \"I\"\n",
    "\n",
    "# Filter words from NLTK corpus that meet the criteria\n",
    "filtered_words = [word.upper() for word in words.words() if len(word) >= 4 and center_letter in word and can_make_word(word, letters)]\n",
    "\n",
    "# Print the filtered words\n",
    "for word in filtered_words:\n",
    "    print(word)\n",
    "\n",
    "# Print total count of words\n",
    "print(\"Total words found:\", len(filtered_words))\n"
   ]
  }
 ],
 "metadata": {
  "kernelspec": {
   "display_name": "Python 3",
   "language": "python",
   "name": "python3"
  },
  "language_info": {
   "codemirror_mode": {
    "name": "ipython",
    "version": 3
   },
   "file_extension": ".py",
   "mimetype": "text/x-python",
   "name": "python",
   "nbconvert_exporter": "python",
   "pygments_lexer": "ipython3",
   "version": "3.11.0"
  }
 },
 "nbformat": 4,
 "nbformat_minor": 2
}
