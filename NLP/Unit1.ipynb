{
 "cells": [
  {
   "cell_type": "code",
   "execution_count": 1,
   "metadata": {},
   "outputs": [
    {
     "name": "stdout",
     "output_type": "stream",
     "text": [
      "*** Introductory Examples for the NLTK Book ***\n",
      "Loading text1, ..., text9 and sent1, ..., sent9\n",
      "Type the name of the text or sentence to view it.\n",
      "Type: 'texts()' or 'sents()' to list the materials.\n",
      "text1: Moby Dick by Herman Melville 1851\n",
      "text2: Sense and Sensibility by Jane Austen 1811\n",
      "text3: The Book of Genesis\n",
      "text4: Inaugural Address Corpus\n",
      "text5: Chat Corpus\n",
      "text6: Monty Python and the Holy Grail\n",
      "text7: Wall Street Journal\n",
      "text8: Personals Corpus\n",
      "text9: The Man Who Was Thursday by G . K . Chesterton 1908\n"
     ]
    }
   ],
   "source": [
    "from nltk.book import *\n"
   ]
  },
  {
   "cell_type": "code",
   "execution_count": 4,
   "metadata": {},
   "outputs": [
    {
     "name": "stdout",
     "output_type": "stream",
     "text": [
      "text1: Moby Dick by Herman Melville 1851\n",
      "text2: Sense and Sensibility by Jane Austen 1811\n",
      "text3: The Book of Genesis\n",
      "text4: Inaugural Address Corpus\n",
      "text5: Chat Corpus\n",
      "text6: Monty Python and the Holy Grail\n",
      "text7: Wall Street Journal\n",
      "text8: Personals Corpus\n",
      "text9: The Man Who Was Thursday by G . K . Chesterton 1908\n",
      "Displaying 25 of 278 matches:\n",
      "ing fruit after his kind , whose seed is in itself , upon the ear and it was s\n",
      "n you every herb bearing seed , which is upon the face of all the earth , and \n",
      "earth , and every tree , in the which is the fruit of a tree yielding seed ; t\n",
      "eepeth upon the earth , wherein there is life , I have given every green herb \n",
      " the LORD God to grow every tree that is pleasant to the sight , and good for \n",
      "to four heads . The name of the first is Pison : that is it which compasseth t\n",
      "The name of the first is Pison : that is it which compasseth the whole land of\n",
      "e whole land of Havilah , where there is gold ; And the gold of that land is g\n",
      "e is gold ; And the gold of that land is good : there is bdellium and the onyx\n",
      "the gold of that land is good : there is bdellium and the onyx stone . And the\n",
      "ne . And the name of the second river is Gihon : the same is it that compasset\n",
      " the second river is Gihon : the same is it that compasseth the whole land of \n",
      "pia . And the name of the third river is Hiddekel : that is it which goeth tow\n",
      "of the third river is Hiddekel : that is it which goeth toward the east of Ass\n",
      "ast of Assyria . And the fourth river is Euphrates . And the LORD God took the\n",
      "rely die . And the LORD God said , It is not good that the man should be alone\n",
      "r unto the man . And Adam said , This is now bone of my bones , and flesh of m\n",
      "rd But of the fruit of the tree which is in the midst of the garden , God hath\n",
      "e LORD God said unto the woman , What is this that thou hast done ? And the wo\n",
      "saying , Thou shalt not eat of cursed is the ground for thy sake ; in sorrow s\n",
      " the LORD God said , Behold , the man is become as one of us , to know good an\n",
      "o Cain , Why art thou wroth ? and why is thy countenance fallen ? If thou does\n",
      ". And the LORD said unto Cain , Where is Abel thy brother ? And he said , I kn\n",
      "in said unto the LORD , My punishment is greater than I can bear . Behold , th\n",
      "call upon the name of the LORD . This is the book of the generations of Adam .\n"
     ]
    }
   ],
   "source": [
    "texts()"
   ]
  },
  {
   "cell_type": "code",
   "execution_count": 5,
   "metadata": {},
   "outputs": [
    {
     "name": "stdout",
     "output_type": "stream",
     "text": [
      "Displaying 25 of 278 matches:\n",
      "ing fruit after his kind , whose seed is in itself , upon the ear and it was s\n",
      "n you every herb bearing seed , which is upon the face of all the earth , and \n",
      "earth , and every tree , in the which is the fruit of a tree yielding seed ; t\n",
      "eepeth upon the earth , wherein there is life , I have given every green herb \n",
      " the LORD God to grow every tree that is pleasant to the sight , and good for \n",
      "to four heads . The name of the first is Pison : that is it which compasseth t\n",
      "The name of the first is Pison : that is it which compasseth the whole land of\n",
      "e whole land of Havilah , where there is gold ; And the gold of that land is g\n",
      "e is gold ; And the gold of that land is good : there is bdellium and the onyx\n",
      "the gold of that land is good : there is bdellium and the onyx stone . And the\n",
      "ne . And the name of the second river is Gihon : the same is it that compasset\n",
      " the second river is Gihon : the same is it that compasseth the whole land of \n",
      "pia . And the name of the third river is Hiddekel : that is it which goeth tow\n",
      "of the third river is Hiddekel : that is it which goeth toward the east of Ass\n",
      "ast of Assyria . And the fourth river is Euphrates . And the LORD God took the\n",
      "rely die . And the LORD God said , It is not good that the man should be alone\n",
      "r unto the man . And Adam said , This is now bone of my bones , and flesh of m\n",
      "rd But of the fruit of the tree which is in the midst of the garden , God hath\n",
      "e LORD God said unto the woman , What is this that thou hast done ? And the wo\n",
      "saying , Thou shalt not eat of cursed is the ground for thy sake ; in sorrow s\n",
      " the LORD God said , Behold , the man is become as one of us , to know good an\n",
      "o Cain , Why art thou wroth ? and why is thy countenance fallen ? If thou does\n",
      ". And the LORD said unto Cain , Where is Abel thy brother ? And he said , I kn\n",
      "in said unto the LORD , My punishment is greater than I can bear . Behold , th\n",
      "call upon the name of the LORD . This is the book of the generations of Adam .\n"
     ]
    }
   ],
   "source": [
    "text3.concordance('is')"
   ]
  }
 ],
 "metadata": {
  "kernelspec": {
   "display_name": "Python 3",
   "language": "python",
   "name": "python3"
  },
  "language_info": {
   "codemirror_mode": {
    "name": "ipython",
    "version": 3
   },
   "file_extension": ".py",
   "mimetype": "text/x-python",
   "name": "python",
   "nbconvert_exporter": "python",
   "pygments_lexer": "ipython3",
   "version": "3.11.0"
  }
 },
 "nbformat": 4,
 "nbformat_minor": 2
}
