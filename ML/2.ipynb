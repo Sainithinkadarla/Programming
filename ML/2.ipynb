{
 "cells": [
  {
   "cell_type": "code",
   "execution_count": 34,
   "metadata": {},
   "outputs": [],
   "source": [
    "from sklearn.model_selection import train_test_split\n",
    "from sklearn.linear_model import LinearRegression, LogisticRegression\n",
    "from sklearn.tree import DecisionTreeClassifier\n",
    "from sklearn.svm import SVC\n",
    "from sklearn.naive_bayes import GaussianNB\n",
    "from sklearn.neighbors import KNeighborsClassifier\n",
    "from sklearn import datasets\n",
    "from sklearn.metrics import classification_report\n",
    "import numpy as np "
   ]
  },
  {
   "cell_type": "code",
   "execution_count": 38,
   "metadata": {},
   "outputs": [],
   "source": [
    "iris = datasets.load_iris()\n",
    "\n",
    "x = iris.data\n",
    "y = iris.target"
   ]
  },
  {
   "cell_type": "code",
   "execution_count": 39,
   "metadata": {},
   "outputs": [],
   "source": [
    "x_train, x_test, y_train, y_test = train_test_split(x,y, train_size=0.80)"
   ]
  },
  {
   "cell_type": "code",
   "execution_count": 60,
   "metadata": {},
   "outputs": [
    {
     "name": "stdout",
     "output_type": "stream",
     "text": [
      "DecisionTreeClassifier\n",
      "prediction value : versicolor\n",
      "              precision    recall  f1-score   support\n",
      "\n",
      "           0       1.00      1.00      1.00         5\n",
      "           1       0.78      0.88      0.82         8\n",
      "           2       0.94      0.88      0.91        17\n",
      "\n",
      "    accuracy                           0.90        30\n",
      "   macro avg       0.91      0.92      0.91        30\n",
      "weighted avg       0.91      0.90      0.90        30\n",
      "\n",
      "SVC\n",
      "prediction value : setosa\n",
      "              precision    recall  f1-score   support\n",
      "\n",
      "           0       1.00      1.00      1.00         5\n",
      "           1       0.70      0.88      0.78         8\n",
      "           2       0.93      0.82      0.87        17\n",
      "\n",
      "    accuracy                           0.87        30\n",
      "   macro avg       0.88      0.90      0.88        30\n",
      "weighted avg       0.88      0.87      0.87        30\n",
      "\n",
      "GaussianNB\n",
      "prediction value : versicolor\n",
      "              precision    recall  f1-score   support\n",
      "\n",
      "           0       1.00      1.00      1.00         5\n",
      "           1       0.89      1.00      0.94         8\n",
      "           2       1.00      0.94      0.97        17\n",
      "\n",
      "    accuracy                           0.97        30\n",
      "   macro avg       0.96      0.98      0.97        30\n",
      "weighted avg       0.97      0.97      0.97        30\n",
      "\n",
      "KNeighborsClassifier\n",
      "prediction value : setosa\n",
      "              precision    recall  f1-score   support\n",
      "\n",
      "           0       1.00      1.00      1.00         5\n",
      "           1       0.88      0.88      0.88         8\n",
      "           2       0.94      0.94      0.94        17\n",
      "\n",
      "    accuracy                           0.93        30\n",
      "   macro avg       0.94      0.94      0.94        30\n",
      "weighted avg       0.93      0.93      0.93        30\n",
      "\n"
     ]
    }
   ],
   "source": [
    "classifiers = [DecisionTreeClassifier(), SVC(), GaussianNB(), KNeighborsClassifier()]\n",
    "new_item = np.array([0.1, 3.5, 3.4, 0.8]).reshape(1,-1)\n",
    "for clf in classifiers:\n",
    "    clf.fit(x_train, y_train)\n",
    "    y_hat = clf.predict(x_test)\n",
    "    print(f'{clf.__class__.__name__}')\n",
    "    print(f'prediction value : {iris.target_names[clf.predict(new_item)][0]}')\n",
    "    print(classification_report(y_test, y_hat)) "
   ]
  }
 ],
 "metadata": {
  "kernelspec": {
   "display_name": "Python 3",
   "language": "python",
   "name": "python3"
  },
  "language_info": {
   "codemirror_mode": {
    "name": "ipython",
    "version": 3
   },
   "file_extension": ".py",
   "mimetype": "text/x-python",
   "name": "python",
   "nbconvert_exporter": "python",
   "pygments_lexer": "ipython3",
   "version": "3.11.0"
  }
 },
 "nbformat": 4,
 "nbformat_minor": 2
}
