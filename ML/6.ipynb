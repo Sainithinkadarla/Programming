{
 "cells": [
  {
   "cell_type": "code",
   "execution_count": 27,
   "metadata": {},
   "outputs": [],
   "source": [
    "from sklearn.datasets import load_breast_cancer\n",
    "from sklearn.model_selection import train_test_split\n",
    "from sklearn.preprocessing import StandardScaler\n",
    "from sklearn.naive_bayes import GaussianNB\n",
    "from sklearn.linear_model import LogisticRegression\n",
    "from sklearn.tree import DecisionTreeClassifier\n",
    "from sklearn.svm import SVC\n",
    "from sklearn.neighbors import KNeighborsClassifier\n",
    "from sklearn.neural_network import MLPClassifier\n",
    "from sklearn.metrics import accuracy_score, precision_score, recall_score, confusion_matrix, roc_auc_score\n",
    "from tabulate import tabulate"
   ]
  },
  {
   "cell_type": "code",
   "execution_count": 28,
   "metadata": {},
   "outputs": [],
   "source": [
    "data = load_breast_cancer()\n",
    "X = data.data\n",
    "y = data.target"
   ]
  },
  {
   "cell_type": "code",
   "execution_count": 29,
   "metadata": {},
   "outputs": [],
   "source": [
    "X_train, X_test, y_train, y_test = train_test_split(X, y, test_size=0.2, random_state=42)"
   ]
  },
  {
   "cell_type": "code",
   "execution_count": 30,
   "metadata": {},
   "outputs": [],
   "source": [
    "def FPR(y_test, y_pred):\n",
    "    conf_matrix = confusion_matrix(y_test, y_pred)\n",
    "    TN, FP, FN, TP = conf_matrix.ravel()\n",
    "    return FP / (FP + TN)\n",
    "\n",
    "def TPR(y_test, y_pred):\n",
    "    conf_matrix = confusion_matrix(y_test, y_pred)\n",
    "    TN, FP, FN, TP = conf_matrix.ravel()\n",
    "    return TP / (TP + FN)"
   ]
  },
  {
   "cell_type": "code",
   "execution_count": 31,
   "metadata": {},
   "outputs": [],
   "source": [
    "scaler = StandardScaler()\n",
    "X_train_scaled = scaler.fit_transform(X_train)\n",
    "X_test_scaled = scaler.transform(X_test)"
   ]
  },
  {
   "cell_type": "code",
   "execution_count": 32,
   "metadata": {},
   "outputs": [],
   "source": [
    "classifiers = {\n",
    "    \"Naive Bayes\": GaussianNB(),\n",
    "    \"Logistic Regression\": LogisticRegression(),\n",
    "    \"Decision Tree\": DecisionTreeClassifier(),\n",
    "    \"Support Vector Machine\": SVC(),\n",
    "    \"K-Nearest Neighbors\": KNeighborsClassifier(),\n",
    "    \"Artificial Neural Network\": MLPClassifier(random_state=42)\n",
    "}"
   ]
  },
  {
   "cell_type": "code",
   "execution_count": 33,
   "metadata": {},
   "outputs": [
    {
     "name": "stderr",
     "output_type": "stream",
     "text": [
      "c:\\Users\\DELL\\AppData\\Local\\Programs\\Python\\Python311\\Lib\\site-packages\\sklearn\\neural_network\\_multilayer_perceptron.py:686: ConvergenceWarning: Stochastic Optimizer: Maximum iterations (200) reached and the optimization hasn't converged yet.\n",
      "  warnings.warn(\n"
     ]
    }
   ],
   "source": [
    "results = []\n",
    "\n",
    "for name, clf in classifiers.items():\n",
    "    clf.fit(X_train_scaled, y_train)\n",
    "    y_pred = clf.predict(X_test_scaled)\n",
    "    \n",
    "    accuracy = accuracy_score(y_test, y_pred)\n",
    "    precision = precision_score(y_test, y_pred)\n",
    "    recall = recall_score(y_test, y_pred)\n",
    "    tpr=TPR(y_test, y_pred)\n",
    "    fpr=FPR(y_test, y_pred)\n",
    "    roc_auc = roc_auc_score(y_test, y_pred)\n",
    "    \n",
    "    results.append([name, accuracy, precision, recall, tpr, fpr, roc_auc])"
   ]
  },
  {
   "cell_type": "code",
   "execution_count": 34,
   "metadata": {},
   "outputs": [
    {
     "name": "stdout",
     "output_type": "stream",
     "text": [
      "+---------------------------+------------+-------------+----------+----------+-----------+-----------+\n",
      "| Classifier                |   Accuracy |   Precision |   Recall |      TPR |       FPR |   ROC AUC |\n",
      "+===========================+============+=============+==========+==========+===========+===========+\n",
      "| Naive Bayes               |   0.964912 |    0.958904 | 0.985915 | 0.985915 | 0.0697674 |  0.958074 |\n",
      "+---------------------------+------------+-------------+----------+----------+-----------+-----------+\n",
      "| Logistic Regression       |   0.973684 |    0.972222 | 0.985915 | 0.985915 | 0.0465116 |  0.969702 |\n",
      "+---------------------------+------------+-------------+----------+----------+-----------+-----------+\n",
      "| Decision Tree             |   0.938596 |    0.944444 | 0.957746 | 0.957746 | 0.0930233 |  0.932362 |\n",
      "+---------------------------+------------+-------------+----------+----------+-----------+-----------+\n",
      "| Support Vector Machine    |   0.982456 |    0.972603 | 1        | 1        | 0.0465116 |  0.976744 |\n",
      "+---------------------------+------------+-------------+----------+----------+-----------+-----------+\n",
      "| K-Nearest Neighbors       |   0.947368 |    0.957746 | 0.957746 | 0.957746 | 0.0697674 |  0.94399  |\n",
      "+---------------------------+------------+-------------+----------+----------+-----------+-----------+\n",
      "| Artificial Neural Network |   0.973684 |    0.972222 | 0.985915 | 0.985915 | 0.0465116 |  0.969702 |\n",
      "+---------------------------+------------+-------------+----------+----------+-----------+-----------+\n"
     ]
    }
   ],
   "source": [
    "# Print results in a table\n",
    "headers = [\"Classifier\", \"Accuracy\", \"Precision\", \"Recall\", \"TPR\", \"FPR\", \"ROC AUC\"]\n",
    "print(tabulate(results, headers=headers, tablefmt=\"grid\"))"
   ]
  },
  {
   "cell_type": "code",
   "execution_count": null,
   "metadata": {},
   "outputs": [],
   "source": []
  }
 ],
 "metadata": {
  "kernelspec": {
   "display_name": "Python 3",
   "language": "python",
   "name": "python3"
  },
  "language_info": {
   "codemirror_mode": {
    "name": "ipython",
    "version": 3
   },
   "file_extension": ".py",
   "mimetype": "text/x-python",
   "name": "python",
   "nbconvert_exporter": "python",
   "pygments_lexer": "ipython3",
   "version": "3.11.5"
  }
 },
 "nbformat": 4,
 "nbformat_minor": 2
}
